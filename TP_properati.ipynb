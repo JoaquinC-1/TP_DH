{
 "cells": [
  {
   "cell_type": "markdown",
   "metadata": {},
   "source": [
    "# Introducción\n",
    "\n",
    "La inmobiliaria [Properati](https://www.properati.com.ar/data) publica periódicamente información sobre ofertas de propiedades para venta y alquiler. Ud. deberá asesorar a la inmobiliaria a desarrollar un modelo de regresión que permita predecir el precio por metro cuadrado de una propiedad. El objetivo final es que el modelo que desarrollen sea utilizado como tasador automático a ser aplicado a las próximas propiedades que sean comercializadas por la empresa. Para ello la empresa le provee de un dataset correspondiente al primer semestre de 2017. El dataset es de tamaño entre pequeño y mediano, pero tiene dos complejidades a las que\n",
    "deberá prestarle atención:\n",
    "\n",
    "- Peso de missing data en algunas variables relevantes.\n",
    "- Será importante tener en cuenta el problema de la influencia espacial en los precios por metro cuadrado. En efecto, es probable que existan diferencias importantes en las diferentes geografías, barrios y zonas analizadas.\n",
    "\n",
    "## Objetivos:\n",
    "\n",
    "- Efectuar una limpieza del dataset provisto. Particularmente, deberá diseñar estrategias para lidiar con los datos perdidos en ciertas variables.\n",
    "- Realizar un análisis descriptivo de las principales variables.\n",
    "- Crear nuevas columnas a partir de las características dadas que puedan tener valor predictivo.\n",
    "\n",
    "## Técnica\n",
    "- Separaremos el dataset por una parte en propiedades de GBA y por otra de CABA, descartando las que se encuentren por fuera de estas regiones. \n",
    "- Analizaremos el dataset para observar diferencias en los precios y tipo de localidades en ambas regiones seleccioandas\n",
    "- Nuestro principal objetivo es poder lograr un limpieza y analisis del dataset para en la segunda aprte del TP predecir el valor de una propiedad en ambas regiones seleccionadas\n",
    "\n",
    "## Informacion de columnas\n",
    "\n",
    "El dataset contiene información sobre todas las propiedades georeferenciadas de la base de datos de la empresa. La información de cada propiedad que incluye es la siguiente:\n",
    "\n",
    "- **Unnamed: 0:** Valores numericos continuos en orden ascendente que numeran cada sample\n",
    "- **operation:** Operacion. Solo hay ventas (sell)\n",
    "- **property_type:** El tipo de propiedad house (casa), apartment (Apartamento),  store (negocio) o PH\n",
    "- **place_name:** Ciudad en la que se cuentra la propiedad. Hay de todo el pais. \n",
    "- **place_with_parent_names:** Nombre de la Ciudad/Provincia/Pais\n",
    "- **country_name:** Nombre del pais\n",
    "- **state_name:** Nombre de la region donde se encuentra\n",
    "- **geonames_id:** ID de [GeoNames](https://www.geonames.org/)\n",
    "- **lat-lon,lat y lon:** Tres columnas con latitud - longitud y mismos valores por separado\n",
    "- **price:** Precio original de la publicación (No especifica moneda)\n",
    "- **currency:** Tipo de moneda del aviso. Hay 'USD', 'ARS', 'PEN', 'UYU'\n",
    "- **price_aprox_local_currency:** Precio del aviso en moneda local (ARS)\n",
    "- **price_aprox_usd:** Precio aproximado en USD\n",
    "- **surface_total_in_m2:** Superficie total en m²\n",
    "- **surface_covered_in_m2:** Superficie cubierta en m²\n",
    "- **price_usd_per_m2:** Precio en USD/m²\n",
    "- **price_per_m2:** Precio por m²\n",
    "- **floor:** Numero de pisos (Si los tiene)\n",
    "- **rooms:** Numero de cuartos\n",
    "- **expenses:** Valor de expensas mensuales\n",
    "- **properati_url:** URL de publicación\n",
    "- **description:** Descripcion de la publicación\n",
    "- **title:** Titulo de la publicación\n",
    "- **image_thumbnail:** URL de una miniatura de la primer foto de la publicación"
   ]
  },
  {
   "cell_type": "code",
   "execution_count": 14,
   "metadata": {},
   "outputs": [],
   "source": [
    "#Importamos librerias para analisis de datos y visualizacion\n",
    "\n",
    "import numpy as np \n",
    "import pandas as pd\n",
    "import matplotlib.pyplot as plt\n",
    "import seaborn as sns\n",
    "import re"
   ]
  },
  {
   "cell_type": "code",
   "execution_count": 15,
   "metadata": {},
   "outputs": [],
   "source": [
    "#Cargamos dataset, utilizamos primera columna como indice porque presenta\n",
    "\n",
    "data= pd.read_csv(\"properatti_nuevo.csv\", index_col=0)"
   ]
  },
  {
   "cell_type": "markdown",
   "metadata": {},
   "source": [
    "# 2. Analisis exploratorio de datos"
   ]
  },
  {
   "cell_type": "code",
   "execution_count": 16,
   "metadata": {},
   "outputs": [
    {
     "name": "stdout",
     "output_type": "stream",
     "text": [
      "El dataset tiene en total 3030500 repartidos en 121220 filas y 25 columnas\n",
      "\n",
      "Sus columnas son ['operation' 'property_type' 'place_name' 'place_with_parent_names'\n",
      " 'country_name' 'state_name' 'geonames_id' 'lat-lon' 'lat' 'lon' 'price'\n",
      " 'currency' 'price_aprox_local_currency' 'price_aprox_usd'\n",
      " 'surface_total_in_m2' 'surface_covered_in_m2' 'price_usd_per_m2'\n",
      " 'price_per_m2' 'floor' 'rooms' 'expenses' 'properati_url' 'description'\n",
      " 'title' 'image_thumbnail']\n"
     ]
    }
   ],
   "source": [
    "# Tamaño y columnas del dataset\n",
    "\n",
    "print(f\"El dataset tiene en total {data.size} repartidos en {data.shape[0]} filas y {data.shape[1]} columnas\\n\")\n",
    "print(f\"Sus columnas son {data.columns.values}\")"
   ]
  },
  {
   "cell_type": "code",
   "execution_count": 17,
   "metadata": {},
   "outputs": [
    {
     "name": "stdout",
     "output_type": "stream",
     "text": [
      "<class 'pandas.core.frame.DataFrame'>\n",
      "Int64Index: 121220 entries, 0 to 121219\n",
      "Data columns (total 25 columns):\n",
      " #   Column                      Non-Null Count   Dtype  \n",
      "---  ------                      --------------   -----  \n",
      " 0   operation                   121220 non-null  object \n",
      " 1   property_type               121220 non-null  object \n",
      " 2   place_name                  121197 non-null  object \n",
      " 3   place_with_parent_names     121220 non-null  object \n",
      " 4   country_name                121220 non-null  object \n",
      " 5   state_name                  121220 non-null  object \n",
      " 6   geonames_id                 102503 non-null  float64\n",
      " 7   lat-lon                     69670 non-null   object \n",
      " 8   lat                         69670 non-null   float64\n",
      " 9   lon                         69670 non-null   float64\n",
      " 10  price                       100810 non-null  float64\n",
      " 11  currency                    100809 non-null  object \n",
      " 12  price_aprox_local_currency  100810 non-null  float64\n",
      " 13  price_aprox_usd             100810 non-null  float64\n",
      " 14  surface_total_in_m2         81892 non-null   float64\n",
      " 15  surface_covered_in_m2       101313 non-null  float64\n",
      " 16  price_usd_per_m2            68617 non-null   float64\n",
      " 17  price_per_m2                87658 non-null   float64\n",
      " 18  floor                       7899 non-null    float64\n",
      " 19  rooms                       47390 non-null   float64\n",
      " 20  expenses                    14262 non-null   float64\n",
      " 21  properati_url               121220 non-null  object \n",
      " 22  description                 121218 non-null  object \n",
      " 23  title                       121220 non-null  object \n",
      " 24  image_thumbnail             118108 non-null  object \n",
      "dtypes: float64(13), object(12)\n",
      "memory usage: 24.0+ MB\n"
     ]
    }
   ],
   "source": [
    "data.info()"
   ]
  },
  {
   "cell_type": "code",
   "execution_count": null,
   "metadata": {},
   "outputs": [],
   "source": [
    "data.sample(5)"
   ]
  },
  {
   "cell_type": "code",
   "execution_count": 18,
   "metadata": {},
   "outputs": [
    {
     "data": {
      "text/html": [
       "<div>\n",
       "<style scoped>\n",
       "    .dataframe tbody tr th:only-of-type {\n",
       "        vertical-align: middle;\n",
       "    }\n",
       "\n",
       "    .dataframe tbody tr th {\n",
       "        vertical-align: top;\n",
       "    }\n",
       "\n",
       "    .dataframe thead th {\n",
       "        text-align: right;\n",
       "    }\n",
       "</style>\n",
       "<table border=\"1\" class=\"dataframe\">\n",
       "  <thead>\n",
       "    <tr style=\"text-align: right;\">\n",
       "      <th></th>\n",
       "      <th>NaN</th>\n",
       "      <th>Porcentaje</th>\n",
       "    </tr>\n",
       "  </thead>\n",
       "  <tbody>\n",
       "    <tr>\n",
       "      <th>floor</th>\n",
       "      <td>113321</td>\n",
       "      <td>93.0</td>\n",
       "    </tr>\n",
       "    <tr>\n",
       "      <th>expenses</th>\n",
       "      <td>106958</td>\n",
       "      <td>88.0</td>\n",
       "    </tr>\n",
       "    <tr>\n",
       "      <th>rooms</th>\n",
       "      <td>73830</td>\n",
       "      <td>61.0</td>\n",
       "    </tr>\n",
       "    <tr>\n",
       "      <th>lat-lon</th>\n",
       "      <td>51550</td>\n",
       "      <td>43.0</td>\n",
       "    </tr>\n",
       "    <tr>\n",
       "      <th>lat</th>\n",
       "      <td>51550</td>\n",
       "      <td>43.0</td>\n",
       "    </tr>\n",
       "    <tr>\n",
       "      <th>lon</th>\n",
       "      <td>51550</td>\n",
       "      <td>43.0</td>\n",
       "    </tr>\n",
       "    <tr>\n",
       "      <th>price_usd_per_m2</th>\n",
       "      <td>52603</td>\n",
       "      <td>43.0</td>\n",
       "    </tr>\n",
       "    <tr>\n",
       "      <th>surface_total_in_m2</th>\n",
       "      <td>39328</td>\n",
       "      <td>32.0</td>\n",
       "    </tr>\n",
       "    <tr>\n",
       "      <th>price_per_m2</th>\n",
       "      <td>33562</td>\n",
       "      <td>28.0</td>\n",
       "    </tr>\n",
       "    <tr>\n",
       "      <th>price_aprox_local_currency</th>\n",
       "      <td>20410</td>\n",
       "      <td>17.0</td>\n",
       "    </tr>\n",
       "    <tr>\n",
       "      <th>price</th>\n",
       "      <td>20410</td>\n",
       "      <td>17.0</td>\n",
       "    </tr>\n",
       "    <tr>\n",
       "      <th>currency</th>\n",
       "      <td>20411</td>\n",
       "      <td>17.0</td>\n",
       "    </tr>\n",
       "    <tr>\n",
       "      <th>price_aprox_usd</th>\n",
       "      <td>20410</td>\n",
       "      <td>17.0</td>\n",
       "    </tr>\n",
       "    <tr>\n",
       "      <th>surface_covered_in_m2</th>\n",
       "      <td>19907</td>\n",
       "      <td>16.0</td>\n",
       "    </tr>\n",
       "    <tr>\n",
       "      <th>geonames_id</th>\n",
       "      <td>18717</td>\n",
       "      <td>15.0</td>\n",
       "    </tr>\n",
       "    <tr>\n",
       "      <th>image_thumbnail</th>\n",
       "      <td>3112</td>\n",
       "      <td>3.0</td>\n",
       "    </tr>\n",
       "    <tr>\n",
       "      <th>property_type</th>\n",
       "      <td>0</td>\n",
       "      <td>0.0</td>\n",
       "    </tr>\n",
       "    <tr>\n",
       "      <th>state_name</th>\n",
       "      <td>0</td>\n",
       "      <td>0.0</td>\n",
       "    </tr>\n",
       "    <tr>\n",
       "      <th>country_name</th>\n",
       "      <td>0</td>\n",
       "      <td>0.0</td>\n",
       "    </tr>\n",
       "    <tr>\n",
       "      <th>place_with_parent_names</th>\n",
       "      <td>0</td>\n",
       "      <td>0.0</td>\n",
       "    </tr>\n",
       "    <tr>\n",
       "      <th>place_name</th>\n",
       "      <td>23</td>\n",
       "      <td>0.0</td>\n",
       "    </tr>\n",
       "    <tr>\n",
       "      <th>properati_url</th>\n",
       "      <td>0</td>\n",
       "      <td>0.0</td>\n",
       "    </tr>\n",
       "    <tr>\n",
       "      <th>description</th>\n",
       "      <td>2</td>\n",
       "      <td>0.0</td>\n",
       "    </tr>\n",
       "    <tr>\n",
       "      <th>title</th>\n",
       "      <td>0</td>\n",
       "      <td>0.0</td>\n",
       "    </tr>\n",
       "    <tr>\n",
       "      <th>operation</th>\n",
       "      <td>0</td>\n",
       "      <td>0.0</td>\n",
       "    </tr>\n",
       "  </tbody>\n",
       "</table>\n",
       "</div>"
      ],
      "text/plain": [
       "                               NaN  Porcentaje\n",
       "floor                       113321        93.0\n",
       "expenses                    106958        88.0\n",
       "rooms                        73830        61.0\n",
       "lat-lon                      51550        43.0\n",
       "lat                          51550        43.0\n",
       "lon                          51550        43.0\n",
       "price_usd_per_m2             52603        43.0\n",
       "surface_total_in_m2          39328        32.0\n",
       "price_per_m2                 33562        28.0\n",
       "price_aprox_local_currency   20410        17.0\n",
       "price                        20410        17.0\n",
       "currency                     20411        17.0\n",
       "price_aprox_usd              20410        17.0\n",
       "surface_covered_in_m2        19907        16.0\n",
       "geonames_id                  18717        15.0\n",
       "image_thumbnail               3112         3.0\n",
       "property_type                    0         0.0\n",
       "state_name                       0         0.0\n",
       "country_name                     0         0.0\n",
       "place_with_parent_names          0         0.0\n",
       "place_name                      23         0.0\n",
       "properati_url                    0         0.0\n",
       "description                      2         0.0\n",
       "title                            0         0.0\n",
       "operation                        0         0.0"
      ]
     },
     "execution_count": 18,
     "metadata": {},
     "output_type": "execute_result"
    }
   ],
   "source": [
    "# Rapido vistazo a missing values\n",
    "\n",
    "df_nulls = pd.DataFrame({\"NaN\": data.isna().sum(), \n",
    "                        \"%\" : round(data.isna().sum()/data.shape[0]*100)}).sort_values(by= \"%\", ascending=False)\n",
    "df_nulls"
   ]
  },
  {
   "cell_type": "markdown",
   "metadata": {},
   "source": [
    "## Variables categoricas y numericas"
   ]
  },
  {
   "cell_type": "code",
   "execution_count": 19,
   "metadata": {},
   "outputs": [],
   "source": [
    "categorical = data.select_dtypes(\"object\")\n",
    "numerical = data.select_dtypes(\"float\")"
   ]
  },
  {
   "cell_type": "code",
   "execution_count": 20,
   "metadata": {},
   "outputs": [
    {
     "data": {
      "text/html": [
       "<div>\n",
       "<style scoped>\n",
       "    .dataframe tbody tr th:only-of-type {\n",
       "        vertical-align: middle;\n",
       "    }\n",
       "\n",
       "    .dataframe tbody tr th {\n",
       "        vertical-align: top;\n",
       "    }\n",
       "\n",
       "    .dataframe thead th {\n",
       "        text-align: right;\n",
       "    }\n",
       "</style>\n",
       "<table border=\"1\" class=\"dataframe\">\n",
       "  <thead>\n",
       "    <tr style=\"text-align: right;\">\n",
       "      <th></th>\n",
       "      <th>count</th>\n",
       "      <th>unique</th>\n",
       "      <th>top</th>\n",
       "      <th>freq</th>\n",
       "    </tr>\n",
       "  </thead>\n",
       "  <tbody>\n",
       "    <tr>\n",
       "      <th>operation</th>\n",
       "      <td>121220</td>\n",
       "      <td>1</td>\n",
       "      <td>sell</td>\n",
       "      <td>121220</td>\n",
       "    </tr>\n",
       "    <tr>\n",
       "      <th>property_type</th>\n",
       "      <td>121220</td>\n",
       "      <td>4</td>\n",
       "      <td>apartment</td>\n",
       "      <td>71065</td>\n",
       "    </tr>\n",
       "    <tr>\n",
       "      <th>place_name</th>\n",
       "      <td>121197</td>\n",
       "      <td>1060</td>\n",
       "      <td>Córdoba</td>\n",
       "      <td>9254</td>\n",
       "    </tr>\n",
       "    <tr>\n",
       "      <th>place_with_parent_names</th>\n",
       "      <td>121220</td>\n",
       "      <td>1164</td>\n",
       "      <td>|Argentina|Santa Fe|Rosario|</td>\n",
       "      <td>8504</td>\n",
       "    </tr>\n",
       "    <tr>\n",
       "      <th>country_name</th>\n",
       "      <td>121220</td>\n",
       "      <td>1</td>\n",
       "      <td>Argentina</td>\n",
       "      <td>121220</td>\n",
       "    </tr>\n",
       "    <tr>\n",
       "      <th>state_name</th>\n",
       "      <td>121220</td>\n",
       "      <td>28</td>\n",
       "      <td>Capital Federal</td>\n",
       "      <td>32316</td>\n",
       "    </tr>\n",
       "    <tr>\n",
       "      <th>lat-lon</th>\n",
       "      <td>69670</td>\n",
       "      <td>47203</td>\n",
       "      <td>-34.4026444,-58.6684776</td>\n",
       "      <td>312</td>\n",
       "    </tr>\n",
       "    <tr>\n",
       "      <th>currency</th>\n",
       "      <td>100809</td>\n",
       "      <td>4</td>\n",
       "      <td>USD</td>\n",
       "      <td>87587</td>\n",
       "    </tr>\n",
       "    <tr>\n",
       "      <th>properati_url</th>\n",
       "      <td>121220</td>\n",
       "      <td>121220</td>\n",
       "      <td>http://www.properati.com.ar/15bo8_venta_ph_mat...</td>\n",
       "      <td>1</td>\n",
       "    </tr>\n",
       "    <tr>\n",
       "      <th>description</th>\n",
       "      <td>121218</td>\n",
       "      <td>104055</td>\n",
       "      <td>AVISO LEGAL: Las descripciones arquitectónicas...</td>\n",
       "      <td>358</td>\n",
       "    </tr>\n",
       "    <tr>\n",
       "      <th>title</th>\n",
       "      <td>121220</td>\n",
       "      <td>72705</td>\n",
       "      <td>DEPARTAMENTO EN VENTA</td>\n",
       "      <td>4855</td>\n",
       "    </tr>\n",
       "    <tr>\n",
       "      <th>image_thumbnail</th>\n",
       "      <td>118108</td>\n",
       "      <td>114389</td>\n",
       "      <td>https://thumbs4.properati.com/5/yyMiu8BHQI9KXC...</td>\n",
       "      <td>255</td>\n",
       "    </tr>\n",
       "  </tbody>\n",
       "</table>\n",
       "</div>"
      ],
      "text/plain": [
       "                          count  unique  \\\n",
       "operation                121220       1   \n",
       "property_type            121220       4   \n",
       "place_name               121197    1060   \n",
       "place_with_parent_names  121220    1164   \n",
       "country_name             121220       1   \n",
       "state_name               121220      28   \n",
       "lat-lon                   69670   47203   \n",
       "currency                 100809       4   \n",
       "properati_url            121220  121220   \n",
       "description              121218  104055   \n",
       "title                    121220   72705   \n",
       "image_thumbnail          118108  114389   \n",
       "\n",
       "                                                                       top  \\\n",
       "operation                                                             sell   \n",
       "property_type                                                    apartment   \n",
       "place_name                                                         Córdoba   \n",
       "place_with_parent_names                       |Argentina|Santa Fe|Rosario|   \n",
       "country_name                                                     Argentina   \n",
       "state_name                                                 Capital Federal   \n",
       "lat-lon                                            -34.4026444,-58.6684776   \n",
       "currency                                                               USD   \n",
       "properati_url            http://www.properati.com.ar/15bo8_venta_ph_mat...   \n",
       "description              AVISO LEGAL: Las descripciones arquitectónicas...   \n",
       "title                                                DEPARTAMENTO EN VENTA   \n",
       "image_thumbnail          https://thumbs4.properati.com/5/yyMiu8BHQI9KXC...   \n",
       "\n",
       "                           freq  \n",
       "operation                121220  \n",
       "property_type             71065  \n",
       "place_name                 9254  \n",
       "place_with_parent_names    8504  \n",
       "country_name             121220  \n",
       "state_name                32316  \n",
       "lat-lon                     312  \n",
       "currency                  87587  \n",
       "properati_url                 1  \n",
       "description                 358  \n",
       "title                      4855  \n",
       "image_thumbnail             255  "
      ]
     },
     "execution_count": 20,
     "metadata": {},
     "output_type": "execute_result"
    }
   ],
   "source": [
    "categorical.describe().T"
   ]
  },
  {
   "cell_type": "code",
   "execution_count": 21,
   "metadata": {},
   "outputs": [
    {
     "data": {
      "text/html": [
       "<div>\n",
       "<style scoped>\n",
       "    .dataframe tbody tr th:only-of-type {\n",
       "        vertical-align: middle;\n",
       "    }\n",
       "\n",
       "    .dataframe tbody tr th {\n",
       "        vertical-align: top;\n",
       "    }\n",
       "\n",
       "    .dataframe thead th {\n",
       "        text-align: right;\n",
       "    }\n",
       "</style>\n",
       "<table border=\"1\" class=\"dataframe\">\n",
       "  <thead>\n",
       "    <tr style=\"text-align: right;\">\n",
       "      <th></th>\n",
       "      <th>count</th>\n",
       "      <th>mean</th>\n",
       "      <th>std</th>\n",
       "      <th>min</th>\n",
       "      <th>25%</th>\n",
       "      <th>50%</th>\n",
       "      <th>75%</th>\n",
       "      <th>max</th>\n",
       "    </tr>\n",
       "  </thead>\n",
       "  <tbody>\n",
       "    <tr>\n",
       "      <th>geonames_id</th>\n",
       "      <td>102503.0</td>\n",
       "      <td>3.574442e+06</td>\n",
       "      <td>3.541306e+05</td>\n",
       "      <td>3.427208e+06</td>\n",
       "      <td>3.430234e+06</td>\n",
       "      <td>3.433910e+06</td>\n",
       "      <td>3.836668e+06</td>\n",
       "      <td>6.948895e+06</td>\n",
       "    </tr>\n",
       "    <tr>\n",
       "      <th>lat</th>\n",
       "      <td>69670.0</td>\n",
       "      <td>-3.462621e+01</td>\n",
       "      <td>1.980936e+00</td>\n",
       "      <td>-5.482398e+01</td>\n",
       "      <td>-3.466907e+01</td>\n",
       "      <td>-3.459799e+01</td>\n",
       "      <td>-3.444130e+01</td>\n",
       "      <td>4.545843e+00</td>\n",
       "    </tr>\n",
       "    <tr>\n",
       "      <th>lon</th>\n",
       "      <td>69670.0</td>\n",
       "      <td>-5.926629e+01</td>\n",
       "      <td>2.299922e+00</td>\n",
       "      <td>-7.567893e+01</td>\n",
       "      <td>-5.872704e+01</td>\n",
       "      <td>-5.848013e+01</td>\n",
       "      <td>-5.839591e+01</td>\n",
       "      <td>-5.373333e+01</td>\n",
       "    </tr>\n",
       "    <tr>\n",
       "      <th>price</th>\n",
       "      <td>100810.0</td>\n",
       "      <td>4.685259e+05</td>\n",
       "      <td>2.260101e+06</td>\n",
       "      <td>0.000000e+00</td>\n",
       "      <td>1.100000e+05</td>\n",
       "      <td>1.850000e+05</td>\n",
       "      <td>4.200000e+05</td>\n",
       "      <td>6.500000e+08</td>\n",
       "    </tr>\n",
       "    <tr>\n",
       "      <th>price_aprox_local_currency</th>\n",
       "      <td>100810.0</td>\n",
       "      <td>4.229397e+06</td>\n",
       "      <td>6.904714e+06</td>\n",
       "      <td>0.000000e+00</td>\n",
       "      <td>1.583309e+06</td>\n",
       "      <td>2.558452e+06</td>\n",
       "      <td>4.675792e+06</td>\n",
       "      <td>8.212711e+08</td>\n",
       "    </tr>\n",
       "    <tr>\n",
       "      <th>price_aprox_usd</th>\n",
       "      <td>100810.0</td>\n",
       "      <td>2.397006e+05</td>\n",
       "      <td>3.913239e+05</td>\n",
       "      <td>0.000000e+00</td>\n",
       "      <td>8.973388e+04</td>\n",
       "      <td>1.450000e+05</td>\n",
       "      <td>2.650000e+05</td>\n",
       "      <td>4.654544e+07</td>\n",
       "    </tr>\n",
       "    <tr>\n",
       "      <th>surface_total_in_m2</th>\n",
       "      <td>81892.0</td>\n",
       "      <td>2.337953e+02</td>\n",
       "      <td>1.782222e+03</td>\n",
       "      <td>0.000000e+00</td>\n",
       "      <td>5.000000e+01</td>\n",
       "      <td>8.400000e+01</td>\n",
       "      <td>2.000000e+02</td>\n",
       "      <td>2.000000e+05</td>\n",
       "    </tr>\n",
       "    <tr>\n",
       "      <th>surface_covered_in_m2</th>\n",
       "      <td>101313.0</td>\n",
       "      <td>1.330502e+02</td>\n",
       "      <td>7.243515e+02</td>\n",
       "      <td>0.000000e+00</td>\n",
       "      <td>4.500000e+01</td>\n",
       "      <td>7.500000e+01</td>\n",
       "      <td>1.500000e+02</td>\n",
       "      <td>1.870000e+05</td>\n",
       "    </tr>\n",
       "    <tr>\n",
       "      <th>price_usd_per_m2</th>\n",
       "      <td>68617.0</td>\n",
       "      <td>2.160087e+03</td>\n",
       "      <td>2.759289e+03</td>\n",
       "      <td>6.000000e-01</td>\n",
       "      <td>1.218182e+03</td>\n",
       "      <td>1.800000e+03</td>\n",
       "      <td>2.486412e+03</td>\n",
       "      <td>2.063333e+05</td>\n",
       "    </tr>\n",
       "    <tr>\n",
       "      <th>price_per_m2</th>\n",
       "      <td>87658.0</td>\n",
       "      <td>6.912216e+03</td>\n",
       "      <td>2.837864e+04</td>\n",
       "      <td>1.510204e+00</td>\n",
       "      <td>1.550000e+03</td>\n",
       "      <td>2.213115e+03</td>\n",
       "      <td>3.355549e+03</td>\n",
       "      <td>4.000000e+06</td>\n",
       "    </tr>\n",
       "    <tr>\n",
       "      <th>floor</th>\n",
       "      <td>7899.0</td>\n",
       "      <td>1.745234e+01</td>\n",
       "      <td>1.202436e+02</td>\n",
       "      <td>1.000000e+00</td>\n",
       "      <td>1.000000e+00</td>\n",
       "      <td>3.000000e+00</td>\n",
       "      <td>6.000000e+00</td>\n",
       "      <td>3.150000e+03</td>\n",
       "    </tr>\n",
       "    <tr>\n",
       "      <th>rooms</th>\n",
       "      <td>47390.0</td>\n",
       "      <td>3.080840e+00</td>\n",
       "      <td>1.860773e+00</td>\n",
       "      <td>1.000000e+00</td>\n",
       "      <td>2.000000e+00</td>\n",
       "      <td>3.000000e+00</td>\n",
       "      <td>4.000000e+00</td>\n",
       "      <td>3.200000e+01</td>\n",
       "    </tr>\n",
       "    <tr>\n",
       "      <th>expenses</th>\n",
       "      <td>14262.0</td>\n",
       "      <td>5.009234e+03</td>\n",
       "      <td>1.204403e+05</td>\n",
       "      <td>1.000000e+00</td>\n",
       "      <td>1.000000e+03</td>\n",
       "      <td>2.000000e+03</td>\n",
       "      <td>4.000000e+03</td>\n",
       "      <td>1.000150e+07</td>\n",
       "    </tr>\n",
       "  </tbody>\n",
       "</table>\n",
       "</div>"
      ],
      "text/plain": [
       "                               count          mean           std  \\\n",
       "geonames_id                 102503.0  3.574442e+06  3.541306e+05   \n",
       "lat                          69670.0 -3.462621e+01  1.980936e+00   \n",
       "lon                          69670.0 -5.926629e+01  2.299922e+00   \n",
       "price                       100810.0  4.685259e+05  2.260101e+06   \n",
       "price_aprox_local_currency  100810.0  4.229397e+06  6.904714e+06   \n",
       "price_aprox_usd             100810.0  2.397006e+05  3.913239e+05   \n",
       "surface_total_in_m2          81892.0  2.337953e+02  1.782222e+03   \n",
       "surface_covered_in_m2       101313.0  1.330502e+02  7.243515e+02   \n",
       "price_usd_per_m2             68617.0  2.160087e+03  2.759289e+03   \n",
       "price_per_m2                 87658.0  6.912216e+03  2.837864e+04   \n",
       "floor                         7899.0  1.745234e+01  1.202436e+02   \n",
       "rooms                        47390.0  3.080840e+00  1.860773e+00   \n",
       "expenses                     14262.0  5.009234e+03  1.204403e+05   \n",
       "\n",
       "                                     min           25%           50%  \\\n",
       "geonames_id                 3.427208e+06  3.430234e+06  3.433910e+06   \n",
       "lat                        -5.482398e+01 -3.466907e+01 -3.459799e+01   \n",
       "lon                        -7.567893e+01 -5.872704e+01 -5.848013e+01   \n",
       "price                       0.000000e+00  1.100000e+05  1.850000e+05   \n",
       "price_aprox_local_currency  0.000000e+00  1.583309e+06  2.558452e+06   \n",
       "price_aprox_usd             0.000000e+00  8.973388e+04  1.450000e+05   \n",
       "surface_total_in_m2         0.000000e+00  5.000000e+01  8.400000e+01   \n",
       "surface_covered_in_m2       0.000000e+00  4.500000e+01  7.500000e+01   \n",
       "price_usd_per_m2            6.000000e-01  1.218182e+03  1.800000e+03   \n",
       "price_per_m2                1.510204e+00  1.550000e+03  2.213115e+03   \n",
       "floor                       1.000000e+00  1.000000e+00  3.000000e+00   \n",
       "rooms                       1.000000e+00  2.000000e+00  3.000000e+00   \n",
       "expenses                    1.000000e+00  1.000000e+03  2.000000e+03   \n",
       "\n",
       "                                     75%           max  \n",
       "geonames_id                 3.836668e+06  6.948895e+06  \n",
       "lat                        -3.444130e+01  4.545843e+00  \n",
       "lon                        -5.839591e+01 -5.373333e+01  \n",
       "price                       4.200000e+05  6.500000e+08  \n",
       "price_aprox_local_currency  4.675792e+06  8.212711e+08  \n",
       "price_aprox_usd             2.650000e+05  4.654544e+07  \n",
       "surface_total_in_m2         2.000000e+02  2.000000e+05  \n",
       "surface_covered_in_m2       1.500000e+02  1.870000e+05  \n",
       "price_usd_per_m2            2.486412e+03  2.063333e+05  \n",
       "price_per_m2                3.355549e+03  4.000000e+06  \n",
       "floor                       6.000000e+00  3.150000e+03  \n",
       "rooms                       4.000000e+00  3.200000e+01  \n",
       "expenses                    4.000000e+03  1.000150e+07  "
      ]
     },
     "execution_count": 21,
     "metadata": {},
     "output_type": "execute_result"
    }
   ],
   "source": [
    "numerical.describe().T"
   ]
  },
  {
   "cell_type": "code",
   "execution_count": 22,
   "metadata": {},
   "outputs": [
    {
     "name": "stderr",
     "output_type": "stream",
     "text": [
      "C:\\Users\\jpans\\AppData\\Local\\Temp\\ipykernel_9832\\713570449.py:15: SettingWithCopyWarning: \n",
      "A value is trying to be set on a copy of a slice from a DataFrame\n",
      "\n",
      "See the caveats in the documentation: https://pandas.pydata.org/pandas-docs/stable/user_guide/indexing.html#returning-a-view-versus-a-copy\n",
      "  data[\"region_name\"].loc[mask_region] = k\n"
     ]
    }
   ],
   "source": [
    "#Diccionario con las diferentes regiones\n",
    "\n",
    "regiones_dict = {\"noroeste\":[\"Catamarca\",\"Jujuy\",\"La Rioja\",\"Salta\", \"Santiago Del Estero\",\"Tucumán\"],\n",
    "                \"noreste\" : [\"Corrientes\", \"Chaco\", \"Formosa\", \"Misiones\"],\n",
    "                \"cuyo\": [\"Mendoza\", \"San Juan\", \"San Luis\"],\n",
    "                \"pampeana\": [\"Córdoba\", \"Entre Ríos\", \"La Pampa\", \"Santa Fe\"],\n",
    "                \"patagonia\" : [\"Río Negro\", \"Neuquén\", \"Chubut\", \"Santa Cruz\", \"Tierra Del Fuego\"],\n",
    "                \"gran_buenos_aires\" : [\"Capital Federal\", \"Bs.As. G.B.A. Zona Sur\", \"Bs.As. G.B.A. Zona Norte\",\"Bs.As. G.B.A. Zona Oeste\",\"Buenos Aires Interior\", \"Buenos Aires Costa Atlántica\" ]}\n",
    "\n",
    "#Nueva columna con las nuevas regiones\n",
    "\n",
    "data[\"region_name\"] = None\n",
    "for k,v in regiones_dict.items():\n",
    "    mask_region = data.state_name.isin(v)\n",
    "    data[\"region_name\"].loc[mask_region] = k "
   ]
  },
  {
   "cell_type": "code",
   "execution_count": 23,
   "metadata": {},
   "outputs": [
    {
     "data": {
      "text/plain": [
       "|Argentina|Bs.As. G.B.A. Zona Norte|Tigre||    23\n",
       "Name: place_with_parent_names, dtype: int64"
      ]
     },
     "execution_count": 23,
     "metadata": {},
     "output_type": "execute_result"
    }
   ],
   "source": [
    "# Busco los valores de place_name que me faltan\n",
    "\n",
    "data.place_with_parent_names[data.place_name.isna()].value_counts()"
   ]
  },
  {
   "cell_type": "code",
   "execution_count": 24,
   "metadata": {},
   "outputs": [],
   "source": [
    "# Observo que son todos de Tigre, asi que completo con Tigre\n",
    "data.place_name.fillna(\"Tigre\", inplace=True)"
   ]
  },
  {
   "cell_type": "code",
   "execution_count": 25,
   "metadata": {},
   "outputs": [],
   "source": [
    "#creando funcion\n",
    "\n",
    "def countplot_plot(feature, hue, title=\"\", xlabel=\"\", ylabel=\"\"):\n",
    "\n",
    "    fig = plt.figure(figsize=(15,20))\n",
    "\n",
    "    for i, col in enumerate(data[feature].unique()):    \n",
    "        plt.title(title)\n",
    "        plt.xlabel(xlabel)\n",
    "        plt.ylabel(ylabel)\n",
    "        plt.subplot(3, 3, i+1)\n",
    "        mask_plot = data[feature] == col\n",
    "        ax =sns.countplot(x=data[feature][mask_plot], hue=data[hue])\n",
    "        \n",
    "        for c in ax.containers:    \n",
    "            labels = [f'{h/data[feature][mask_plot].count()*100:0.1f}%' if (h := v.get_height()) > 0 else '' for v in c]    \n",
    "            ax.bar_label(c, labels=labels, label_type=\"edge\")\n",
    "\n",
    "    plt.show()"
   ]
  },
  {
   "cell_type": "code",
   "execution_count": 26,
   "metadata": {},
   "outputs": [
    {
     "data": {
      "image/png": "[encoded data removed]",
      "text/plain": [
       "<Figure size 1500x2000 with 6 Axes>"
      ]
     },
     "metadata": {},
     "output_type": "display_data"
    }
   ],
   "source": [
    "countplot_plot(\"region_name\",\"property_type\", title=\"Departamenteos\", xlabel=\"buenas\", ylabel=\"Hola\" )"
   ]
  },
  {
   "cell_type": "markdown",
   "metadata": {},
   "source": [
    "# BUSCAR M2"
   ]
  },
  {
   "cell_type": "markdown",
   "metadata": {},
   "source": [
    "1. Elegir entre covered y total m2 para compeltarlos.\n",
    "2. Realizar m2 con los precios en dolares\n"
   ]
  },
  {
   "cell_type": "code",
   "execution_count": 27,
   "metadata": {},
   "outputs": [],
   "source": [
    "# Creo 2 variables para organizar las features que me interesan y otra para descripton asi realizo regex para completar\n",
    "data_m2 = data.loc[:,[\"surface_covered_in_m2\", \"surface_total_in_m2\", \"price_usd_per_m2\", \"price_per_m2\"]]\n",
    "data_description = data.loc[:,\"description\"]"
   ]
  },
  {
   "cell_type": "code",
   "execution_count": 28,
   "metadata": {},
   "outputs": [
    {
     "data": {
      "text/plain": [
       "surface_covered_in_m2    16.422208\n",
       "surface_total_in_m2      32.443491\n",
       "price_usd_per_m2         43.394654\n",
       "price_per_m2             27.686850\n",
       "dtype: float64"
      ]
     },
     "execution_count": 28,
     "metadata": {},
     "output_type": "execute_result"
    }
   ],
   "source": [
    "# Nulos\n",
    "data_m2.isna().sum()/data.shape[0]*100"
   ]
  },
  {
   "cell_type": "code",
   "execution_count": 29,
   "metadata": {},
   "outputs": [
    {
     "data": {
      "text/html": [
       "<div>\n",
       "<style scoped>\n",
       "    .dataframe tbody tr th:only-of-type {\n",
       "        vertical-align: middle;\n",
       "    }\n",
       "\n",
       "    .dataframe tbody tr th {\n",
       "        vertical-align: top;\n",
       "    }\n",
       "\n",
       "    .dataframe thead th {\n",
       "        text-align: right;\n",
       "    }\n",
       "</style>\n",
       "<table border=\"1\" class=\"dataframe\">\n",
       "  <thead>\n",
       "    <tr style=\"text-align: right;\">\n",
       "      <th></th>\n",
       "      <th>count</th>\n",
       "      <th>mean</th>\n",
       "      <th>std</th>\n",
       "      <th>min</th>\n",
       "      <th>25%</th>\n",
       "      <th>50%</th>\n",
       "      <th>75%</th>\n",
       "      <th>max</th>\n",
       "    </tr>\n",
       "  </thead>\n",
       "  <tbody>\n",
       "    <tr>\n",
       "      <th>surface_covered_in_m2</th>\n",
       "      <td>101313.0</td>\n",
       "      <td>133.050181</td>\n",
       "      <td>724.351479</td>\n",
       "      <td>0.000000</td>\n",
       "      <td>45.000000</td>\n",
       "      <td>75.000000</td>\n",
       "      <td>150.000000</td>\n",
       "      <td>1.870000e+05</td>\n",
       "    </tr>\n",
       "    <tr>\n",
       "      <th>surface_total_in_m2</th>\n",
       "      <td>81892.0</td>\n",
       "      <td>233.795328</td>\n",
       "      <td>1782.222147</td>\n",
       "      <td>0.000000</td>\n",
       "      <td>50.000000</td>\n",
       "      <td>84.000000</td>\n",
       "      <td>200.000000</td>\n",
       "      <td>2.000000e+05</td>\n",
       "    </tr>\n",
       "    <tr>\n",
       "      <th>price_usd_per_m2</th>\n",
       "      <td>68617.0</td>\n",
       "      <td>2160.086916</td>\n",
       "      <td>2759.288621</td>\n",
       "      <td>0.600000</td>\n",
       "      <td>1218.181818</td>\n",
       "      <td>1800.000000</td>\n",
       "      <td>2486.411765</td>\n",
       "      <td>2.063333e+05</td>\n",
       "    </tr>\n",
       "    <tr>\n",
       "      <th>price_per_m2</th>\n",
       "      <td>87658.0</td>\n",
       "      <td>6912.215705</td>\n",
       "      <td>28378.644734</td>\n",
       "      <td>1.510204</td>\n",
       "      <td>1550.000000</td>\n",
       "      <td>2213.114754</td>\n",
       "      <td>3355.548611</td>\n",
       "      <td>4.000000e+06</td>\n",
       "    </tr>\n",
       "  </tbody>\n",
       "</table>\n",
       "</div>"
      ],
      "text/plain": [
       "                          count         mean           std       min  \\\n",
       "surface_covered_in_m2  101313.0   133.050181    724.351479  0.000000   \n",
       "surface_total_in_m2     81892.0   233.795328   1782.222147  0.000000   \n",
       "price_usd_per_m2        68617.0  2160.086916   2759.288621  0.600000   \n",
       "price_per_m2            87658.0  6912.215705  28378.644734  1.510204   \n",
       "\n",
       "                               25%          50%          75%           max  \n",
       "surface_covered_in_m2    45.000000    75.000000   150.000000  1.870000e+05  \n",
       "surface_total_in_m2      50.000000    84.000000   200.000000  2.000000e+05  \n",
       "price_usd_per_m2       1218.181818  1800.000000  2486.411765  2.063333e+05  \n",
       "price_per_m2           1550.000000  2213.114754  3355.548611  4.000000e+06  "
      ]
     },
     "execution_count": 29,
     "metadata": {},
     "output_type": "execute_result"
    }
   ],
   "source": [
    "data_m2.describe().T"
   ]
  },
  {
   "cell_type": "markdown",
   "metadata": {},
   "source": [
    "Observamos que en surface_covered_in_m2 y surface_total_in_m2 hay valores minimos de \"0\" y max de 187000, lo que son outliers y vAmos a tener que limpiarlos para que no afecte nuestro modelo. Esto se observa en la diferencia que hay entre media y mediana.\n",
    "\n",
    "1. Tengo que elegir entre covered_m2 y total_m2. Decidiemos por total_m2 ya que es lo mas objetivo. En el Total se encuentran los m2 cubiertos ademas de los descubiertos, caracteristica que cambia el precio al comprar una propiedad ya que se utiliza los m2 totales. \n",
    "2. Vamos a compeltar los datos que no tenemos en totales con los cubiertos. Luego realizar regex. Y por lo ultimo, observar si hay datos en price_usd_per_m2 y price_per_m2 que reconvirtiendolo puedan darnos los m2.\n",
    "3. Luego eliminaremos las varibales que tengan 0 ya que son outlier\n",
    "4. Dividiremos el precio en dolares por los m2 para poder tener el target que nos interesa USD/m2\n"
   ]
  },
  {
   "cell_type": "code",
   "execution_count": 30,
   "metadata": {},
   "outputs": [],
   "source": [
    "#1.A Completamos los valores de totales con los cubiertos\n",
    "data_m2.surface_total_in_m2.fillna(data_m2.surface_covered_in_m2, inplace=True)"
   ]
  },
  {
   "cell_type": "code",
   "execution_count": 31,
   "metadata": {},
   "outputs": [],
   "source": [
    "# Creamos nuestra columna de USD/m2  \n",
    "data_m2[\"usd/m2\"] = data.price_aprox_usd /data.surface_total_in_m2"
   ]
  },
  {
   "cell_type": "code",
   "execution_count": 32,
   "metadata": {},
   "outputs": [
    {
     "data": {
      "text/plain": [
       "surface_covered_in_m2    16.422208\n",
       "surface_total_in_m2      10.203762\n",
       "price_usd_per_m2         43.394654\n",
       "price_per_m2             27.686850\n",
       "usd/m2                   43.189243\n",
       "dtype: float64"
      ]
     },
     "execution_count": 32,
     "metadata": {},
     "output_type": "execute_result"
    }
   ],
   "source": [
    "data_m2.isna().sum()/data.shape[0]*100"
   ]
  },
  {
   "cell_type": "markdown",
   "metadata": {},
   "source": [
    "Disminuimos el porcentaje de NaN de m2 al 10%. Vamos a tratar de disminuir realizando regex en descripcion"
   ]
  },
  {
   "cell_type": "code",
   "execution_count": 33,
   "metadata": {},
   "outputs": [],
   "source": [
    "# 1.B regex para encontar m2\n",
    "\n",
    "import re\n",
    "# defino funcion\n",
    "\n",
    "def extract_description(pattern, data):\n",
    "    #Primero paso a la columna a str para poder utilizar regex\n",
    "    description_str = data[\"description\"].astype(str)\n",
    "    #Extraigo las frases que tenga un numero seguido por ambiente o amb en mayuscula o minuscula\n",
    "    return description_str.str.extract(pattern, expand=False)"
   ]
  },
  {
   "cell_type": "code",
   "execution_count": 34,
   "metadata": {},
   "outputs": [],
   "source": [
    "# Creo una mascara de los samples Nan\n",
    "mask_m2 = data_m2.surface_total_in_m2.isna()\n",
    "#Creo variable con solo estos samples\n",
    "data_m2_describe = data.loc[mask_m2, [\"description\"]]"
   ]
  },
  {
   "cell_type": "code",
   "execution_count": 35,
   "metadata": {},
   "outputs": [],
   "source": [
    "# Defino pattern \n",
    "pattern_m2 = re.compile(r\"(m2\\s*\\d+|\\d+\\s*m2)\", flags=re.IGNORECASE)\n",
    "\n",
    "# Creo columna para checkear los diferentes valores que extraigo\n",
    "data_m2_describe[\"check_m2\"] = extract_description(pattern_m2, data_m2_describe)\n"
   ]
  },
  {
   "cell_type": "code",
   "execution_count": 36,
   "metadata": {},
   "outputs": [
    {
     "data": {
      "text/plain": [
       "array([nan, '83M2', '82M2', '460 m2', '375m2', '75 m2', '120 M2',\n",
       "       '2290 m2', '80m2', '74m2', '7 M2', '400 M2', '35 m2', '45 M2',\n",
       "       '160 m2', '1600 M2', '800 M2', '500m2', '68 m2', '150 M2',\n",
       "       '225 m2', '150m2', '35m2', '4 m2', '15m2', '144M2', '25 m2',\n",
       "       '155m2', '251 m2', '335m2', '1000 m2', '19M2', '480 m2', '903m2',\n",
       "       '181 m2', '416 m2', '970 m2', '164 m2', '90 m2', '30m2', '88m2',\n",
       "       '52m2', '38m2', '50m2', '830m2', '48 M2', '185 m2', '77 m2',\n",
       "       '100 m2', '313 m2', '78 m2', '50 m2', '71 m2', '31 m2', '205 m2',\n",
       "       '60 m2', '60m2', '83m2', '95m2', '1525 M2', '889 m2', '79 m2',\n",
       "       '81 m2', '32m2', '10 m2', '36 m2', '82m2', '580m2', '1070 m2',\n",
       "       '27 M2', '43m2', '00 m2', '400 m2', '90m2', '69 m2', '62 m2',\n",
       "       '760 m2', '67 m2', '31 M2', '110 m2', '29 m2', '120 m2', '36m2',\n",
       "       '375 m2', '510 m2', '151m2', '565m2', '42 m2', '120m2', '496 M2',\n",
       "       '20M2', '69M2', '93 m2', '190m2', '100m2', '265m2', '50M2',\n",
       "       '218 m2', '150 m2', '8500 M2', '70 m2', '25m2', '80 m2', '2750 m2',\n",
       "       '23 m2', '250 m2', '872 m2', '35 M2', '60 M2', '121 m2', '981 m2',\n",
       "       '9 m2', '2000 m2', '26 m2', '50 M2', '30 M2', '600 m2', '1200 m2',\n",
       "       '135 m2', '130 m2', '680 m2', '1090 m2', '40 m2', '582 m2',\n",
       "       '600m2', '600 M2', '57m2', '200 m2', '360 m2', '175 m2', '139 m2',\n",
       "       '218m2', '179m2', '464 m2', '90 M2', '1m2', '06 m2', '08 m2',\n",
       "       '02 m2', '32 M2', '530 M2', '84 m2', '770m2', '2000 M2', '30 m2',\n",
       "       '1500 m2', '650 m2', '783 m2', '89 m2', '85 M2', '285 m2',\n",
       "       '1250 m2', '1200m2', '359 m2', '45m2', '290 m2', '41m2', '2m2',\n",
       "       '34 m2', '134 m2', '200m2', '469 m2', '64 m2', '363 M2', '101 m2',\n",
       "       '51 m2', '258 m2', '17m2', '85m2', '500 m2', '750m2', '62m2',\n",
       "       '54m2', '160m2', '42m2', '350 m2', '442m2', '680m2', '17 m2',\n",
       "       '103 m2', '1361m2', '245 M2', '4472 m2', '43 m2', '1260 M2',\n",
       "       '12m2', '264 m2', '300 M2', '33 M2', '40m2', '150M2', '1700 m2',\n",
       "       '902 m2', '5 M2', '208 m2', '33 m2', '257 m2', '2440 m2', '005 m2',\n",
       "       '000 m2', '265 m2', '668 m2', '273 m2', '105 m2', '106 m2', '2 m2',\n",
       "       '136M2', '40M2', '15 m2', '72 m2', '5000 m2', '16 m2', '100 M2',\n",
       "       '306 m2', '49 m2', '140m2', '56 m2', '29m2', '145 M2', '45M2',\n",
       "       '866 M2', '155 m2', '47 m2', '44m2', '45 m2', '300 m2', '74 m2',\n",
       "       '83 m2', '260 M2', '87 m2', '27m2', '1300 M2', '53 M2', '74 M2',\n",
       "       '241 M2', '21m2', '3200m2', '730 m2', '105m2', '170 m2', '52 M2',\n",
       "       '2015m2', '51m2', '53 m2', '1890 m2', '264 M2', '813 m2', '85 m2',\n",
       "       '450 m2', '400m2', '536 m2', '134m2', '9m2', '230 M2', '05 m2',\n",
       "       '135m2', '1024 m2', '480 M2', '107m2', '22m2', '24m2', '800M2',\n",
       "       '295 m2', '754 m2', '308 m2', '86 M2', '240 m2', '300m2', '14m2',\n",
       "       '2 M2', '86 m2', '950 m2', '20 m2', '294 m2', '213 m2', '330 m2',\n",
       "       '46 m2', '52 m2', '654 m2', '450M2', '36M2', '212 m2', '220 m2',\n",
       "       '116 m2', '318 m2', '39 M2', '399 M2', '215m2', '825 m2', '550m2',\n",
       "       '247 m2', '32 m2', '147 m2', '175m2', '67m2', '139 M2', '148 M2',\n",
       "       '454 m2', '5 m2', '170m2', '99m2', '800 m2', '472m2', '2446 m2',\n",
       "       '875 m2', '58 m2', '138m2', '110m2', '465 m2', '422m2', '168m2',\n",
       "       '425 m2', '304 m2', '91 m2', '136m2', '850 m2', '420 m2', '426m2',\n",
       "       '200 M2', '180 M2', '110 M2', '1300 m2', '6 m2', '1400 m2',\n",
       "       '41 m2', '65 m2', '59 m2', '83 M2', '49 M2', '76M2', '1150 m2',\n",
       "       '1230 m2', '55 m2', '1100 m2', '55 M2', '26m2', '193m2', '32M2',\n",
       "       '152 m2', '118 m2', '215 m2', '75m2', '943 m2', '210m2', '180 m2',\n",
       "       '56 M2', '119m2', '145 m2', '37 m2', '94 M2', '172 m2', '1512 m2',\n",
       "       '95 m2', '54 m2', '202m2', '70m2', '230 m2', '140 m2', '620 m2',\n",
       "       '849 m2', '900M2', '40 M2', '504 m2', '61 M2', '130m2', '200M2',\n",
       "       '260 m2', '65m2', '06m2', '89m2', '855m2', '098m2', '350m2',\n",
       "       '396 m2', '1800m2', '266 m2', '250m2', '73 m2', '228 m2', '815 m2',\n",
       "       '128 m2', '275 m2', '388 m2', '125 m2', '96 m2', '58m2', '558 M2',\n",
       "       '286 m2', '348m2', '18 m2', '82 m2', '277 m2', '48 m2', '700 m2',\n",
       "       '14 m2', '19 m2', '426 m2', '370 m2', '226 m2', '248 m2', '88 m2',\n",
       "       '57  m2', '125m2', '148m2', '104 m2', '550 m2', '710 m2', '812 m2',\n",
       "       '203m2', '298 m2', '592 m2', '482 m2', '1010 m2', '215M2', '30M2',\n",
       "       '38 m2', '526m2', '290m2', '324 m2', '883M2', '202 m2', '319 m2',\n",
       "       '664m2', '77M2', '66 m2', '312 m2', '76 m2', '272 m2', '225m2',\n",
       "       '57 m2', '969 m2', '98m2', '112 m2', '99 m2', '92m2', '220m2',\n",
       "       '310 m2', '28 m2', '595 m2', '458 m2', '420180 m2', '24 m2',\n",
       "       '196 m2', '55m2', '1093 m2', '27 m2', '267m2', '430 m2', '1053 M2',\n",
       "       '34m2', '640 M2', '151 m2', '760m2', '540m2', '750 m2', '1800 M2',\n",
       "       '70 M2', '144m2', '195m2', '770 m2', '37m2', '47m2', '337 m2',\n",
       "       '488 m2', '800\\t\\t\\t\\t\\t\\t M2', '65 M2', '1900m2', '260m2',\n",
       "       '347m2', '015m2', '570 m2', '255 m2', '91 M2', '92 M2', '0 m2',\n",
       "       '169 m2', '234 m2', '80 M2', '208m2', '277m2', '780 m2', '3 m2',\n",
       "       '68m2', '581 m2', '953 m2', '16 M2', '6 M2', '1100m2', '459m2',\n",
       "       '12 M2', '15 M2', '115 m2', '315 m2', '94 m2', '132 m2', '456 m2',\n",
       "       '856 m2', '750M2', '1800 m2', '65M2', '427m2', '29 M2', '127 m2',\n",
       "       '126 m2', '249 m2', '127m2', '216m2', '73m2', '197m2', '128   m2',\n",
       "       '15  m2', '95 M2', '167 m2', '284 m2', '293 m2', '1720m2', '37 M2',\n",
       "       '293m2', '242m2', '420m2', '450 M2', '20  m2', '976m2', '535m2',\n",
       "       '280m2', '189 m2', '184 m2', '185 M2', '338 m2', '337 M2',\n",
       "       '3500m2', '64m2', '377 M2', '152m2', '990 m2', '142 m2', '1910M2',\n",
       "       '153M2', '166 m2', '141 m2', '168 m2', '44 M2', '2550 m2', '224m2',\n",
       "       '900 m2', '440 m2', '116 M2', '1023 m2', '230m2', '1750m2',\n",
       "       '935M2', '975 m2', '69 M2', '114 m2', '12000 m2', '840 m2',\n",
       "       '450m2', '1962 m2', '371 m2', '1880 M2', '165 m2', '108 m2',\n",
       "       '470 m2', '47 M2', '8m2', '177 m2', '266 M2', '125 M2', '259 m2',\n",
       "       '63m2', '890 m2', '850m2', '720 m2', '1000m2', '129 m2', '447 m2',\n",
       "       '223 m2', '280 m2', '377 m2', '678 m2', '800m2', '288m2', '85M2',\n",
       "       '78m2', '156 M2', '141 M2', '270 m2', '138 m2', '7000m2',\n",
       "       '7000 m2', '525m2', '270M2', '616 m2', '400M2', '684 m2', '970m2',\n",
       "       '735 m2', '49m2', '61 m2', '309 M2', '572 m2', '23m2', '1600m2',\n",
       "       '187 M2', '225 M2', '503 M2', '02 M2', '6M2', '667m2', '1188m2',\n",
       "       '1285 m2', '130M2', '329 m2', '1029 m2', '70M2', '277M2', '565 m2',\n",
       "       '34M2', '989M2', '22M2', '865 m2', '321m2', '505 m2', '100M2',\n",
       "       '380M2', '390 M2', '178 m2', '320 M2', '2064 m2', '412 m2',\n",
       "       '380 m2', '320 m2', '98M2', '250M2', '135 M2', '120M2', '520M2',\n",
       "       '256M2', '206M2', '500M2', '42M2', '25 M2', '945 m2', '861 m2',\n",
       "       '880 m2', '1060 m2', '160 M2', '841 m2', '44 m2', '250 M2',\n",
       "       '76 M2', '331 m2', '670m2', '193M2', '48m2', '385m2', '308m2',\n",
       "       '233 M2', '348 M2', '392 m2', '9000 m2', '62 M2', '5000m2',\n",
       "       '281 M2', '403 m2', '1650m2', '866m2', '870 m2', '2570m2', '124m2',\n",
       "       '540 M2', '87m2', '704 M2', '180m2', '1500m2', '5700 m2', '571 M2',\n",
       "       '273 M2', '39 m2', '160M2', '1150m2', '165m2', '660m2', '220 M2',\n",
       "       '000m2', '496m2', '300M2', '576 m2', '40  m2', '9100 m2',\n",
       "       '3400 m2', '54 M2', '380m2', '46m2', '2500m2', '98 M2', '1600 m2',\n",
       "       '20m2', '2500 M2', '115m2', '243m2', '22 m2', '436 m2', '477 M2',\n",
       "       '155 M2', '54M2', '307 m2', '360 M2', '11 m2', '2500 m2', '5987m2',\n",
       "       '5m2', '143 m2', '7m2', '1170m2', '20 M2', '116m2', '445m2',\n",
       "       '406m2', '97m2', '9980m2', '60M2', '55M2', '9000m2', '350 M2',\n",
       "       '198 m2', '196 M2', '820 m2', '590 M2', '9 M2', '63 m2', '57 M2',\n",
       "       '827m2', '240m2', '09m2', '92 m2', '3600m2', '52M2', '190 m2',\n",
       "       '463m2', '42 M2', '75 M2', '136 m2', '180M2', '422 m2', '28m2',\n",
       "       '486m2', '1000 M2', '599 m2', '38  m2', '630 m2', '930 m2',\n",
       "       '736 m2', '405 m2', '449 M2', '186 M2', '387 m2', '6m2', '176 M2',\n",
       "       '000 M2', '158 m2', '720m2', '031 m2', '03 M2', '8400 m2',\n",
       "       '740 M2', '35 \\xa0m2', '612 M2', '312 M2', '240 M2', '600M2',\n",
       "       '370m2', '702 M2', '37M2', '59M2', '1240 m2', '91m2', '11578m2',\n",
       "       '1181 m2', '8181 m2', '191 m2', '153m2', '2100 m2', '107 m2',\n",
       "       '360m2', '420M2', '1000M2', '700M2', '84m2', '390m2', '182m2',\n",
       "       '75M2', '280 M2', '316 m2', '73M2', '1538M2', '1300M2', '1985 m2',\n",
       "       '299 m2', '484m2', '407 m2', '161m2', '9222m2', '930m2', '520m2',\n",
       "       '240M2', '82 M2', '747 m2', '227 M2', '33m2', '39m2', '2330 m2',\n",
       "       '551 m2', '110M2', '124 M2'], dtype=object)"
      ]
     },
     "execution_count": 36,
     "metadata": {},
     "output_type": "execute_result"
    }
   ],
   "source": [
    "#Observo que extraje correctamente valores que me interesaban\n",
    "data_m2_describe.check_m2.unique()"
   ]
  },
  {
   "cell_type": "code",
   "execution_count": 37,
   "metadata": {},
   "outputs": [
    {
     "name": "stderr",
     "output_type": "stream",
     "text": [
      "C:\\Users\\jpans\\AppData\\Local\\Temp\\ipykernel_9832\\103759584.py:2: FutureWarning: The default value of regex will change from True to False in a future version.\n",
      "  regex_m2 = data_m2_describe.check_m2.str.replace(r\"(m2)\",\"\" ,flags=re.IGNORECASE).astype(float)\n"
     ]
    }
   ],
   "source": [
    "#Elimino los m2 y dejo solo el valor\n",
    "regex_m2 = data_m2_describe.check_m2.str.replace(r\"(m2)\",\"\" ,flags=re.IGNORECASE).astype(float)\n",
    "regex_m2\n",
    "#Completo los Nans con los valores que extraje de title\n",
    "data_m2[\"surface_total_in_m2\"].fillna(regex_m2, inplace=True)"
   ]
  },
  {
   "cell_type": "code",
   "execution_count": 38,
   "metadata": {},
   "outputs": [
    {
     "data": {
      "text/plain": [
       "surface_covered_in_m2    16.422208\n",
       "surface_total_in_m2       8.511797\n",
       "price_usd_per_m2         43.394654\n",
       "price_per_m2             27.686850\n",
       "usd/m2                   43.189243\n",
       "dtype: float64"
      ]
     },
     "execution_count": 38,
     "metadata": {},
     "output_type": "execute_result"
    }
   ],
   "source": [
    "# observo como quedaron los Nan\n",
    "data_m2.isnull().sum()/data.shape[0]*100\n",
    "# Disminuyo un 2 %"
   ]
  },
  {
   "cell_type": "code",
   "execution_count": 39,
   "metadata": {},
   "outputs": [],
   "source": [
    "# 1.C Comparo las columnas de Nan que me faltan para ver si puedo compeltarlo con las features price_usd_per_m2 y price_per_m2\n",
    "# Creo de nuevo la mascara\n",
    "mask_m2 = data_m2.surface_total_in_m2.isna()\n",
    "\n",
    "#data_m2.loc[mask_m2,[\"surface_total_in_m2\", \"price_usd_per_m2\", \"price_per_m2\"] ].isna().any()\n",
    "# COnfirmo que en ninguna columna tengo valores para completar"
   ]
  },
  {
   "cell_type": "code",
   "execution_count": 40,
   "metadata": {},
   "outputs": [],
   "source": [
    "# Vuelvo a completar mi columna usd_m2 con mis nuevos valores\n",
    "data_m2[\"usd_m2\"] = data.price_aprox_usd /data.surface_total_in_m2"
   ]
  },
  {
   "cell_type": "code",
   "execution_count": 41,
   "metadata": {},
   "outputs": [
    {
     "data": {
      "text/plain": [
       "surface_covered_in_m2    16.422208\n",
       "surface_total_in_m2       8.511797\n",
       "price_usd_per_m2         43.394654\n",
       "price_per_m2             27.686850\n",
       "usd/m2                   43.189243\n",
       "usd_m2                   43.189243\n",
       "dtype: float64"
      ]
     },
     "execution_count": 41,
     "metadata": {},
     "output_type": "execute_result"
    }
   ],
   "source": [
    "#VEo como quedaron las features\n",
    "data_m2.isnull().sum()/data_m2.shape[0]*100\n",
    "\n",
    "# Observo que tengo un 23% de nulos en la columna USD/m2. Esto me demuestra que hay samples en donde tengo los m2 pero no los precios"
   ]
  },
  {
   "cell_type": "code",
   "execution_count": 42,
   "metadata": {},
   "outputs": [],
   "source": [
    "# Agrego los valores de m2 que consegui y la columna de usd/m2 a mi dataset original\n",
    "\n",
    "#Agregar datos a m2_totales\n",
    "data.surface_total_in_m2 = data_m2.surface_total_in_m2\n",
    "\n",
    "#Agrego columna usd/m2\n",
    "data[\"usd/m2\"] = data_m2[\"usd/m2\"]\n"
   ]
  },
  {
   "cell_type": "code",
   "execution_count": 43,
   "metadata": {},
   "outputs": [
    {
     "data": {
      "text/plain": [
       "Index(['operation', 'property_type', 'place_name', 'place_with_parent_names',\n",
       "       'country_name', 'state_name', 'geonames_id', 'lat-lon', 'lat', 'lon',\n",
       "       'price', 'currency', 'price_aprox_local_currency', 'price_aprox_usd',\n",
       "       'surface_total_in_m2', 'surface_covered_in_m2', 'price_usd_per_m2',\n",
       "       'price_per_m2', 'floor', 'rooms', 'expenses', 'properati_url',\n",
       "       'description', 'title', 'image_thumbnail', 'region_name', 'usd/m2'],\n",
       "      dtype='object')"
      ]
     },
     "execution_count": 43,
     "metadata": {},
     "output_type": "execute_result"
    }
   ],
   "source": [
    "data.columns"
   ]
  },
  {
   "cell_type": "markdown",
   "metadata": {},
   "source": [
    "# Precio"
   ]
  },
  {
   "cell_type": "markdown",
   "metadata": {},
   "source": [
    "Completar los precios en dolares. \n",
    "\n",
    "1. Analizar valores de los 3 tipos de precios y ver sus caracteristicas\n",
    "2. Comparar precio en dolares con moneda local para evaluar si hay algun valor que se pueda usar mediante conversion para rellenar un sample\n",
    "3. Busqueda en price_usd_per_m2 y price_per_m2 para que mediante multiplicacion con los metros cuadrados se pueda sacar su precio total\n",
    "4. Regex para completar los precios."
   ]
  },
  {
   "cell_type": "code",
   "execution_count": 44,
   "metadata": {},
   "outputs": [],
   "source": [
    "#1. Observacion de los tipos de precio\n",
    "\n",
    "#Creo variable para mejor organizacion\n",
    "\n",
    "data_price = data.loc[:, [\"price\", \"price_aprox_local_currency\",\"price_aprox_usd\"]] "
   ]
  },
  {
   "cell_type": "code",
   "execution_count": 45,
   "metadata": {},
   "outputs": [
    {
     "data": {
      "text/html": [
       "<div>\n",
       "<style scoped>\n",
       "    .dataframe tbody tr th:only-of-type {\n",
       "        vertical-align: middle;\n",
       "    }\n",
       "\n",
       "    .dataframe tbody tr th {\n",
       "        vertical-align: top;\n",
       "    }\n",
       "\n",
       "    .dataframe thead th {\n",
       "        text-align: right;\n",
       "    }\n",
       "</style>\n",
       "<table border=\"1\" class=\"dataframe\">\n",
       "  <thead>\n",
       "    <tr style=\"text-align: right;\">\n",
       "      <th></th>\n",
       "      <th>count</th>\n",
       "      <th>mean</th>\n",
       "      <th>std</th>\n",
       "      <th>min</th>\n",
       "      <th>25%</th>\n",
       "      <th>50%</th>\n",
       "      <th>75%</th>\n",
       "      <th>max</th>\n",
       "    </tr>\n",
       "  </thead>\n",
       "  <tbody>\n",
       "    <tr>\n",
       "      <th>price</th>\n",
       "      <td>100810.0</td>\n",
       "      <td>4.685259e+05</td>\n",
       "      <td>2.260101e+06</td>\n",
       "      <td>0.0</td>\n",
       "      <td>110000.00</td>\n",
       "      <td>185000.0</td>\n",
       "      <td>420000.0</td>\n",
       "      <td>650000000.0</td>\n",
       "    </tr>\n",
       "    <tr>\n",
       "      <th>price_aprox_local_currency</th>\n",
       "      <td>100810.0</td>\n",
       "      <td>4.229397e+06</td>\n",
       "      <td>6.904714e+06</td>\n",
       "      <td>0.0</td>\n",
       "      <td>1583309.44</td>\n",
       "      <td>2558452.5</td>\n",
       "      <td>4675792.5</td>\n",
       "      <td>821271104.3</td>\n",
       "    </tr>\n",
       "    <tr>\n",
       "      <th>price_aprox_usd</th>\n",
       "      <td>100810.0</td>\n",
       "      <td>2.397006e+05</td>\n",
       "      <td>3.913239e+05</td>\n",
       "      <td>0.0</td>\n",
       "      <td>89733.88</td>\n",
       "      <td>145000.0</td>\n",
       "      <td>265000.0</td>\n",
       "      <td>46545445.0</td>\n",
       "    </tr>\n",
       "  </tbody>\n",
       "</table>\n",
       "</div>"
      ],
      "text/plain": [
       "                               count          mean           std  min  \\\n",
       "price                       100810.0  4.685259e+05  2.260101e+06  0.0   \n",
       "price_aprox_local_currency  100810.0  4.229397e+06  6.904714e+06  0.0   \n",
       "price_aprox_usd             100810.0  2.397006e+05  3.913239e+05  0.0   \n",
       "\n",
       "                                   25%        50%        75%          max  \n",
       "price                        110000.00   185000.0   420000.0  650000000.0  \n",
       "price_aprox_local_currency  1583309.44  2558452.5  4675792.5  821271104.3  \n",
       "price_aprox_usd               89733.88   145000.0   265000.0   46545445.0  "
      ]
     },
     "execution_count": 45,
     "metadata": {},
     "output_type": "execute_result"
    }
   ],
   "source": [
    "data_price.describe().T"
   ]
  },
  {
   "cell_type": "markdown",
   "metadata": {},
   "source": [
    "Se observa que hay valores minimos de 0, clara muestra de outliers. Solucionaremos esto mas adelante.\n",
    "\n",
    "Todos tienen la misma cantidad de valores no nulos, pero se observa una diferencia entre sus estadisticos concordante con que cada feature maneja diferentes tipos de monedas. price_aprox_local_currency: Pesos ARG, price_aprox_usd: USD y price segun su moneda que en este caso son 'USD', 'ARS', 'PEN', 'UYU'.\n"
   ]
  },
  {
   "cell_type": "code",
   "execution_count": 46,
   "metadata": {},
   "outputs": [
    {
     "data": {
      "text/plain": [
       "price                         True\n",
       "price_aprox_local_currency    True\n",
       "price_aprox_usd               True\n",
       "dtype: bool"
      ]
     },
     "execution_count": 46,
     "metadata": {},
     "output_type": "execute_result"
    }
   ],
   "source": [
    "# 2. Vamos a comparar las tres features apra ver si tienen los mismos valores faltantes\n",
    "\n",
    "#Creo mascara para solo los Nan\n",
    "\n",
    "mask_price_nan = data_price[\"price_aprox_usd\"].isna()\n",
    "\n",
    "data_price.loc[mask_price_nan, :].isna().all()\n",
    "\n",
    "# Todos los precios tienen los mismis Nan\n"
   ]
  },
  {
   "cell_type": "code",
   "execution_count": 47,
   "metadata": {},
   "outputs": [
    {
     "data": {
      "text/plain": [
       "price_aprox_usd     True\n",
       "price_usd_per_m2    True\n",
       "price_per_m2        True\n",
       "dtype: bool"
      ]
     },
     "execution_count": 47,
     "metadata": {},
     "output_type": "execute_result"
    }
   ],
   "source": [
    "# 2. Comparo con los precio en m2 para ver si reconvirtiendo puedo completarlos\n",
    "\n",
    "#Creo variable con las features que me interesan solo de los valores Nan de precio\n",
    "\n",
    "data_price_m2  = data.loc[mask_price_nan, [\"price_aprox_usd\",\"price_usd_per_m2\", \"price_per_m2\"]]\n",
    "\n",
    "# Compruebo si son todos Nan\n",
    "data_price_m2.isna().all()\n",
    "# COnfirmo que no puedo completar con estas varaibles asi que paso a realizar regex"
   ]
  },
  {
   "cell_type": "code",
   "execution_count": 48,
   "metadata": {},
   "outputs": [
    {
     "data": {
      "text/html": [
       "<div>\n",
       "<style scoped>\n",
       "    .dataframe tbody tr th:only-of-type {\n",
       "        vertical-align: middle;\n",
       "    }\n",
       "\n",
       "    .dataframe tbody tr th {\n",
       "        vertical-align: top;\n",
       "    }\n",
       "\n",
       "    .dataframe thead th {\n",
       "        text-align: right;\n",
       "    }\n",
       "</style>\n",
       "<table border=\"1\" class=\"dataframe\">\n",
       "  <thead>\n",
       "    <tr style=\"text-align: right;\">\n",
       "      <th></th>\n",
       "      <th>description</th>\n",
       "    </tr>\n",
       "  </thead>\n",
       "  <tbody>\n",
       "    <tr>\n",
       "      <th>5</th>\n",
       "      <td>Casa en el perímetro del barrio 338, ubicada en el extremo sur este del barrio, sobre calle 3 de caballería casi Nágera. Vista libre a terreno en frente.Consta de dos dormitorios, baño, living cocina comedor integrado de buen tamaño, lavadero con despensero en aluminio.Patio privado con churrasquera, tapiales y puerta de acceso de servicio. Frente con rejas y pequeño patio con verde, porch de acceso.Gas natural en la puerta. Aire acondicionad...</td>\n",
       "    </tr>\n",
       "    <tr>\n",
       "      <th>20</th>\n",
       "      <td>Consta de: Comedor-cocina, cuatro dormitorios (uno con baño en suite), un baño, otro baño para terminar, cuarto de herramientas y amplio parque.</td>\n",
       "    </tr>\n",
       "    <tr>\n",
       "      <th>41</th>\n",
       "      <td>“Arecas” es un complejo de dúplex y departamentos de primera calidad constructiva ubicado en el mejor Barrio Residencial de Villa Carlos Paz. Pensamos en brindarles una opción acorde a cada necesidad: para la persona o familia que busca su vivienda, el ahorrista que elige una vivienda en construcción para capitalizarse y el inversionista que apuesta a la excelente renta que ofrece la Villa en alquileres temporarios. • Financiación: FINANCIACI...</td>\n",
       "    </tr>\n",
       "    <tr>\n",
       "      <th>62</th>\n",
       "      <td>Casa moderna en dos plantas.PB : Living con hogar, cocina-comedor diario,  toilette de recepción, lavadero y estudio, todos los pisos de cerámicos, carpinterí­a exterior en aluminio blanco con doble vidrio.PA: Hall de distribución, con pequeño espacio para escritorio y placard. Dos dormitorios, baño compartido y suite con vestidor. Todos los pisos flotantes.</td>\n",
       "    </tr>\n",
       "    <tr>\n",
       "      <th>67</th>\n",
       "      <td>PLANTA ALTA: DORMITORIO EN SUITE - BALCÓNPLANTA BAJA: 2 DORMITORIOS - BAÑO - COCINA - LIVING/COMEDOR - LAVADERO - PATIO- FONDO LIBRE- ENTRADA DE AUTO - LOCAL CON BAÑOCONSULTE VALOR</td>\n",
       "    </tr>\n",
       "    <tr>\n",
       "      <th>76</th>\n",
       "      <td>Impecable casa moderna ubicada en la loma de Stella Maris. Consta de amplia recepcion, toilette, cocina comedor, 3 dormitorios (principal en suite), garage p/ 4 autos, quincho con parrilla, dependencia de servicio con baño y gran parque. La calefaccion es por radiadores. Consulte.</td>\n",
       "    </tr>\n",
       "    <tr>\n",
       "      <th>83</th>\n",
       "      <td>IDEAL INVERSORES o ESTUDIANTES APTA CREDITO Antigüedad 30 años Superficie cubierta: 55 m2 Contrafrente, interno Ingreso a living-comedor con cocina anexa (ventila naturalmente) Pasillo distribuidor a baño con ducha completa y dos dormitorios. Construcción solida con pisos de cerámica en estado inmaculado, puerta con doble cerradura. Seguridad fines de semana y lunes a viernes de (22 a 6 am) y cámaras de vigilancia.  - Publicado por</td>\n",
       "    </tr>\n",
       "    <tr>\n",
       "      <th>84</th>\n",
       "      <td>Departamento en PB con cocina comedor separado. Instalación y sector para lavarropas. Estar, 1 baño y 2 dormitorios con placares. Patio de uso compartido. En Buen estado Cuenta con cochera cubierta en planta baja (Medidas 2.50 x 5.00 m) Edificio de PB y dos pisos con escalera. MUY BAJAS EXPENSAS NO APTA CREDITO  - Publicado por</td>\n",
       "    </tr>\n",
       "    <tr>\n",
       "      <th>85</th>\n",
       "      <td>Corrientes 1900 – 1º Piso Departamento de 1 dormitorio (semipiso) Cocina con alacena y bajo mesada semi-integrada al living comedor. Instalación para lavarropas. Circulación o paso hacia baño y dormitorio. 1 dormitorio con vista despejada hacia el Noreste. Muy luminoso. Placares con interiores. Baño con bañera. Balcón Terraza, muy amplio. Posibilidad de instalar parrillero. Antigüedad 2 años FRENTE, orientación Oeste Superficie total: 63 m2 E...</td>\n",
       "    </tr>\n",
       "    <tr>\n",
       "      <th>100</th>\n",
       "      <td>San Nicolás 365ENTREGA INMEDIATA.Edificio de escaleraPlanta baja y 3 pisosCompuesto de:4 Departamentos dos dormitorios7 Departamentos un dormitorio7 Monoambientes3 Cocheras. 4404242 / 4403232Santa Fe Piso 6 Oficina 42000 | Rosario | Santa Fe | Argentina Horario de Atención: Lunes a Viernes de 10.00 a 18.00. EasyBroker ID: EB-AI0748</td>\n",
       "    </tr>\n",
       "    <tr>\n",
       "      <th>101</th>\n",
       "      <td>Tucuman 3476Edificio PB y 4 pisos por ascensorDepartamentos de 1 dormitorio, 2 dormitorios, monoambientes y cocheras.Monoambientes de 22m2 + 5.30m21 Dormitorio al frente de 36m2 + 5.30m21 Dormitorio contrafrente de 34.50m2 + 2.30m22 Dormitorios al contrafrente de 52.50m2 + 2.70m2ENTREGA ENERO 2018Posibilidad de anticipo y cuotas hasta posesión. 4404242 / 4403232Santa Fe Piso 6 Oficina 42000 | Rosario | Santa Fe | Argentina Horario de Atención...</td>\n",
       "    </tr>\n",
       "    <tr>\n",
       "      <th>102</th>\n",
       "      <td>Tucuman 3476Edificio PB y 4 pisos por ascensorDepartamentos de 1 dormitorio, 2 dormitorios, monoambientes y cocheras.Monoambientes de 22m2 + 5.30m21 Dormitorio al frente de 36m2 + 5.30m21 Dormitorio contrafrente de 34.50m2 + 2.30m22 Dormitorios al contrafrente de 52.50m2 + 2.70m2ENTREGA ENERO 2018Posibilidad de anticipo y cuotas hasta posesión. 4404242 / 4403232Santa Fe Piso 6 Oficina 42000 | Rosario | Santa Fe | Argentina Horario de Atención...</td>\n",
       "    </tr>\n",
       "    <tr>\n",
       "      <th>103</th>\n",
       "      <td>CHALET EN DOS PLANTASCOMODIDADES:PB: living comedor - cocina comedor diario - baño completo - galería - garage pasante - fondo - pileta de natación - cuarto guarda útiles - lavaderoPA: 3 dormitorios (2 con altillo) - baño completo Medidas:Frente: 10 m Largo: 26 m. EasyBroker ID: 89447</td>\n",
       "    </tr>\n",
       "    <tr>\n",
       "      <th>124</th>\n",
       "      <td>CODIGO: 2366-347 ubicado en: PUERTO ROLDAN -  Publicado por: COSA PROPIEDADES. El precio es de ARS 1 null. 3 dormitorios 125 m2 cubiertos + 54 m2 semicubiertos Terreno 1115 m2 (26x43) Todo en una planta 2 baños completos Living comedor con cocina semi integrada . Publicado a través de Mapaprop</td>\n",
       "    </tr>\n",
       "    <tr>\n",
       "      <th>125</th>\n",
       "      <td>CODIGO: 438-12112 ubicado en: test de prueba -  Publicado por: VIP PROPIEDADES. El precio es de ARS 6500 null. Descripcion de TEST . Publicado a través de Mapaprop</td>\n",
       "    </tr>\n",
       "    <tr>\n",
       "      <th>126</th>\n",
       "      <td>CODIGO: 021 ubicado en: QUINTANA 4900 -  Publicado por: ANZALONE PROPIEDADES. El precio es de USD 1 null. Compuesta de cocina – comedor diario con alacena y bajo mesada en formica, living – comedor, 2 dormitorios (uno más amplio al frente y un segundo dormitorio más chico con pisos de parquet), hall distribuidor amplio, baño completo con bañera de material con revestimiento cerámico, patio descubierto, lavadero cubierto, garaje cubierto para ...</td>\n",
       "    </tr>\n",
       "    <tr>\n",
       "      <th>133</th>\n",
       "      <td>Corredor Responsable: Pablo Castañeda - C.U.C.I.S. Mat. Nº208Contacto: Carla Yapura - MLS ID # 251128-24HERMOSO DEPARTAMENTO EN VENTA, UBICADO EN ZONA SUR. SE DISTRIBUYE EN LIVING COMEDOR, COCINA (MUEBLES DE BAJO MESADA Y ALACENA), BAÑO COMPLETO, DOS DORMITORIOS CON PLACARES, LAVADERO, ESPACIO DE ESTACIONAMIENTO TECHADO. SE ENCUENTRA EN EXCELENTES CONDICIONES PARA SER HABITADO.     Corredor Responsable: Pablo Castañeda C.U.C.I.S. Mat. Nº 208 ...</td>\n",
       "    </tr>\n",
       "    <tr>\n",
       "      <th>134</th>\n",
       "      <td>Corredor Responsable: Pablo Castañeda - C.U.C.I.S. Mat. Nº208Contacto: Julieta Chavarria - MLS ID # 251104-47DEPARTAMENTO EN SEGUNDO PISO CONTRAFRENTE, CUENTA CON LIVING COMEDOR Y COCINA CON DOBLE MESADA INTEGRADA, BALCON TOILLETTE, PASILLO DE DISTRIBUCIÓN UN BAÑO COMPLETO Y DOS DORMITORIOS, UNO CON PLACARD Y EL OTRO CON VESTIDOR Y BALCON.  Corredor Responsable: Pablo Castañeda C.U.C.I.S. Mat. Nº208  En cumplimiento de la Ley Provincial 7629,...</td>\n",
       "    </tr>\n",
       "    <tr>\n",
       "      <th>136</th>\n",
       "      <td>Corredor Responsable: Marcos Provvidenti - CCI SANTA FE MAT N 0198Contacto: Marcelo Gaspoz - MLS ID # 420811007-15 Duplex en excelente zona. Con orientación Este, en planta baja cuenta con: living-comedor, cochera, baño de servicio, cocina, patio seco y lavadero. En planta alta cuenta con: tres dormitorios; dos con guardarropas empotrado (a refaccionar), baño principal y balcón cubierto. Todos los servicios. Buen estado de la propiedad. Ideal...</td>\n",
       "    </tr>\n",
       "    <tr>\n",
       "      <th>139</th>\n",
       "      <td>Venta Chalet  calle Gascón,Excelente propiedad con alarma, antigüedad del 80, calefacción tiro balanceado.Venta Chalet calle Gascón..Living Comedor.Cocina Comedor.Toilette de Recepción.Garage Pasante para 2 autos.Parque con parrillaPLANTA ALTA.3 Dormitorios el principal en suite. Escritorio/Estar</td>\n",
       "    </tr>\n",
       "  </tbody>\n",
       "</table>\n",
       "</div>"
      ],
      "text/plain": [
       "                                                                                                                                                                                                                                                                                                                                                                                                                                                           description\n",
       "5    Casa en el perímetro del barrio 338, ubicada en el extremo sur este del barrio, sobre calle 3 de caballería casi Nágera. Vista libre a terreno en frente.Consta de dos dormitorios, baño, living cocina comedor integrado de buen tamaño, lavadero con despensero en aluminio.Patio privado con churrasquera, tapiales y puerta de acceso de servicio. Frente con rejas y pequeño patio con verde, porch de acceso.Gas natural en la puerta. Aire acondicionad...\n",
       "20                                                                                                                                                                                                                                                                                                                    Consta de: Comedor-cocina, cuatro dormitorios (uno con baño en suite), un baño, otro baño para terminar, cuarto de herramientas y amplio parque.\n",
       "41   “Arecas” es un complejo de dúplex y departamentos de primera calidad constructiva ubicado en el mejor Barrio Residencial de Villa Carlos Paz. Pensamos en brindarles una opción acorde a cada necesidad: para la persona o familia que busca su vivienda, el ahorrista que elige una vivienda en construcción para capitalizarse y el inversionista que apuesta a la excelente renta que ofrece la Villa en alquileres temporarios. • Financiación: FINANCIACI...\n",
       "62                                                                                            Casa moderna en dos plantas.PB : Living con hogar, cocina-comedor diario,  toilette de recepción, lavadero y estudio, todos los pisos de cerámicos, carpinterí­a exterior en aluminio blanco con doble vidrio.PA: Hall de distribución, con pequeño espacio para escritorio y placard. Dos dormitorios, baño compartido y suite con vestidor. Todos los pisos flotantes.\n",
       "67                                                                                                                                                                                                                                                                                PLANTA ALTA: DORMITORIO EN SUITE - BALCÓNPLANTA BAJA: 2 DORMITORIOS - BAÑO - COCINA - LIVING/COMEDOR - LAVADERO - PATIO- FONDO LIBRE- ENTRADA DE AUTO - LOCAL CON BAÑOCONSULTE VALOR\n",
       "76                                                                                                                                                                           Impecable casa moderna ubicada en la loma de Stella Maris. Consta de amplia recepcion, toilette, cocina comedor, 3 dormitorios (principal en suite), garage p/ 4 autos, quincho con parrilla, dependencia de servicio con baño y gran parque. La calefaccion es por radiadores. Consulte.\n",
       "83                IDEAL INVERSORES o ESTUDIANTES APTA CREDITO Antigüedad 30 años Superficie cubierta: 55 m2 Contrafrente, interno Ingreso a living-comedor con cocina anexa (ventila naturalmente) Pasillo distribuidor a baño con ducha completa y dos dormitorios. Construcción solida con pisos de cerámica en estado inmaculado, puerta con doble cerradura. Seguridad fines de semana y lunes a viernes de (22 a 6 am) y cámaras de vigilancia.  - Publicado por \n",
       "84                                                                                                                          Departamento en PB con cocina comedor separado. Instalación y sector para lavarropas. Estar, 1 baño y 2 dormitorios con placares. Patio de uso compartido. En Buen estado Cuenta con cochera cubierta en planta baja (Medidas 2.50 x 5.00 m) Edificio de PB y dos pisos con escalera. MUY BAJAS EXPENSAS NO APTA CREDITO  - Publicado por \n",
       "85   Corrientes 1900 – 1º Piso Departamento de 1 dormitorio (semipiso) Cocina con alacena y bajo mesada semi-integrada al living comedor. Instalación para lavarropas. Circulación o paso hacia baño y dormitorio. 1 dormitorio con vista despejada hacia el Noreste. Muy luminoso. Placares con interiores. Baño con bañera. Balcón Terraza, muy amplio. Posibilidad de instalar parrillero. Antigüedad 2 años FRENTE, orientación Oeste Superficie total: 63 m2 E...\n",
       "100                                                                                                                      San Nicolás 365ENTREGA INMEDIATA.Edificio de escaleraPlanta baja y 3 pisosCompuesto de:4 Departamentos dos dormitorios7 Departamentos un dormitorio7 Monoambientes3 Cocheras. 4404242 / 4403232Santa Fe Piso 6 Oficina 42000 | Rosario | Santa Fe | Argentina Horario de Atención: Lunes a Viernes de 10.00 a 18.00. EasyBroker ID: EB-AI0748\n",
       "101  Tucuman 3476Edificio PB y 4 pisos por ascensorDepartamentos de 1 dormitorio, 2 dormitorios, monoambientes y cocheras.Monoambientes de 22m2 + 5.30m21 Dormitorio al frente de 36m2 + 5.30m21 Dormitorio contrafrente de 34.50m2 + 2.30m22 Dormitorios al contrafrente de 52.50m2 + 2.70m2ENTREGA ENERO 2018Posibilidad de anticipo y cuotas hasta posesión. 4404242 / 4403232Santa Fe Piso 6 Oficina 42000 | Rosario | Santa Fe | Argentina Horario de Atención...\n",
       "102  Tucuman 3476Edificio PB y 4 pisos por ascensorDepartamentos de 1 dormitorio, 2 dormitorios, monoambientes y cocheras.Monoambientes de 22m2 + 5.30m21 Dormitorio al frente de 36m2 + 5.30m21 Dormitorio contrafrente de 34.50m2 + 2.30m22 Dormitorios al contrafrente de 52.50m2 + 2.70m2ENTREGA ENERO 2018Posibilidad de anticipo y cuotas hasta posesión. 4404242 / 4403232Santa Fe Piso 6 Oficina 42000 | Rosario | Santa Fe | Argentina Horario de Atención...\n",
       "103                                                                                                                                                                      CHALET EN DOS PLANTASCOMODIDADES:PB: living comedor - cocina comedor diario - baño completo - galería - garage pasante - fondo - pileta de natación - cuarto guarda útiles - lavaderoPA: 3 dormitorios (2 con altillo) - baño completo Medidas:Frente: 10 m Largo: 26 m. EasyBroker ID: 89447\n",
       "124                                                                                                                                                             CODIGO: 2366-347 ubicado en: PUERTO ROLDAN -  Publicado por: COSA PROPIEDADES. El precio es de ARS 1 null. 3 dormitorios 125 m2 cubiertos + 54 m2 semicubiertos Terreno 1115 m2 (26x43) Todo en una planta 2 baños completos Living comedor con cocina semi integrada . Publicado a través de Mapaprop\n",
       "125                                                                                                                                                                                                                                                                                                CODIGO: 438-12112 ubicado en: test de prueba -  Publicado por: VIP PROPIEDADES. El precio es de ARS 6500 null. Descripcion de TEST . Publicado a través de Mapaprop\n",
       "126  CODIGO: 021 ubicado en: QUINTANA 4900 -  Publicado por: ANZALONE PROPIEDADES. El precio es de USD 1 null. Compuesta de cocina – comedor diario con alacena y bajo mesada en formica, living – comedor, 2 dormitorios (uno más amplio al frente y un segundo dormitorio más chico con pisos de parquet), hall distribuidor amplio, baño completo con bañera de material con revestimiento cerámico, patio descubierto, lavadero cubierto, garaje cubierto para ...\n",
       "133  Corredor Responsable: Pablo Castañeda - C.U.C.I.S. Mat. Nº208Contacto: Carla Yapura - MLS ID # 251128-24HERMOSO DEPARTAMENTO EN VENTA, UBICADO EN ZONA SUR. SE DISTRIBUYE EN LIVING COMEDOR, COCINA (MUEBLES DE BAJO MESADA Y ALACENA), BAÑO COMPLETO, DOS DORMITORIOS CON PLACARES, LAVADERO, ESPACIO DE ESTACIONAMIENTO TECHADO. SE ENCUENTRA EN EXCELENTES CONDICIONES PARA SER HABITADO.     Corredor Responsable: Pablo Castañeda C.U.C.I.S. Mat. Nº 208 ...\n",
       "134  Corredor Responsable: Pablo Castañeda - C.U.C.I.S. Mat. Nº208Contacto: Julieta Chavarria - MLS ID # 251104-47DEPARTAMENTO EN SEGUNDO PISO CONTRAFRENTE, CUENTA CON LIVING COMEDOR Y COCINA CON DOBLE MESADA INTEGRADA, BALCON TOILLETTE, PASILLO DE DISTRIBUCIÓN UN BAÑO COMPLETO Y DOS DORMITORIOS, UNO CON PLACARD Y EL OTRO CON VESTIDOR Y BALCON.  Corredor Responsable: Pablo Castañeda C.U.C.I.S. Mat. Nº208  En cumplimiento de la Ley Provincial 7629,...\n",
       "136  Corredor Responsable: Marcos Provvidenti - CCI SANTA FE MAT N 0198Contacto: Marcelo Gaspoz - MLS ID # 420811007-15 Duplex en excelente zona. Con orientación Este, en planta baja cuenta con: living-comedor, cochera, baño de servicio, cocina, patio seco y lavadero. En planta alta cuenta con: tres dormitorios; dos con guardarropas empotrado (a refaccionar), baño principal y balcón cubierto. Todos los servicios. Buen estado de la propiedad. Ideal...\n",
       "139                                                                                                                                                          Venta Chalet  calle Gascón,Excelente propiedad con alarma, antigüedad del 80, calefacción tiro balanceado.Venta Chalet calle Gascón..Living Comedor.Cocina Comedor.Toilette de Recepción.Garage Pasante para 2 autos.Parque con parrillaPLANTA ALTA.3 Dormitorios el principal en suite. Escritorio/Estar"
      ]
     },
     "execution_count": 48,
     "metadata": {},
     "output_type": "execute_result"
    }
   ],
   "source": [
    "#3. Realizo regex\n",
    "\n",
    "# Creo variable con solo las columnas con precios Nan para mejor manejo\n",
    "data_usd_description = data.loc[(mask_price_nan),[\"description\"]]\n",
    "#Observo brevemente como se distribuyen las descripciones. Para poder mejorar la lectura aumento la capacidad de texto que puedo leer\n",
    "pd.set_option('max_colwidth', 450)\n",
    "data_usd_description.head(20)"
   ]
  },
  {
   "cell_type": "code",
   "execution_count": 49,
   "metadata": {},
   "outputs": [],
   "source": [
    "# Reinicio el tamaño para ve la descripcion\n",
    "pd.reset_option(\"max_colwidth\")\n"
   ]
  },
  {
   "cell_type": "code",
   "execution_count": 50,
   "metadata": {},
   "outputs": [
    {
     "data": {
      "text/plain": [
       "array([nan, 'alquiler', 'Alquilado', 'ALQUILADO', 'alquilado', 'ALQUILER',\n",
       "       'alquilar', 'Alquiler', 'ALQUILAR', 'ALQUILO', 'Alquilo'],\n",
       "      dtype=object)"
      ]
     },
     "execution_count": 50,
     "metadata": {},
     "output_type": "execute_result"
    }
   ],
   "source": [
    "# Como osbervo que hay varios valores que corresponden a alquiler voy a eliminar estos samples para evitar confusion\n",
    "alquiler_pattern = re.compile(r\"(alquilado|alquiler|alquilo|alquilar)\", flags=re.IGNORECASE )\n",
    "\n",
    "describe_alquiler = extract_description(alquiler_pattern, data_usd_description)\n",
    "\n",
    "#Observo que capto correcamente los valores\n",
    "describe_alquiler.unique()"
   ]
  },
  {
   "cell_type": "code",
   "execution_count": 51,
   "metadata": {},
   "outputs": [
    {
     "data": {
      "text/html": [
       "<div>\n",
       "<style scoped>\n",
       "    .dataframe tbody tr th:only-of-type {\n",
       "        vertical-align: middle;\n",
       "    }\n",
       "\n",
       "    .dataframe tbody tr th {\n",
       "        vertical-align: top;\n",
       "    }\n",
       "\n",
       "    .dataframe thead th {\n",
       "        text-align: right;\n",
       "    }\n",
       "</style>\n",
       "<table border=\"1\" class=\"dataframe\">\n",
       "  <thead>\n",
       "    <tr style=\"text-align: right;\">\n",
       "      <th></th>\n",
       "      <th>description</th>\n",
       "    </tr>\n",
       "  </thead>\n",
       "  <tbody>\n",
       "    <tr>\n",
       "      <th>5</th>\n",
       "      <td>Casa en el perímetro del barrio 338, ubicada e...</td>\n",
       "    </tr>\n",
       "    <tr>\n",
       "      <th>20</th>\n",
       "      <td>Consta de: Comedor-cocina, cuatro dormitorios ...</td>\n",
       "    </tr>\n",
       "    <tr>\n",
       "      <th>62</th>\n",
       "      <td>Casa moderna en dos plantas.PB : Living con ho...</td>\n",
       "    </tr>\n",
       "    <tr>\n",
       "      <th>67</th>\n",
       "      <td>PLANTA ALTA: DORMITORIO EN SUITE - BALCÓNPLANT...</td>\n",
       "    </tr>\n",
       "    <tr>\n",
       "      <th>76</th>\n",
       "      <td>Impecable casa moderna ubicada en la loma de S...</td>\n",
       "    </tr>\n",
       "    <tr>\n",
       "      <th>...</th>\n",
       "      <td>...</td>\n",
       "    </tr>\n",
       "    <tr>\n",
       "      <th>121208</th>\n",
       "      <td>Puertos- Barrio Vistas - L. 88Casa en venta so...</td>\n",
       "    </tr>\n",
       "    <tr>\n",
       "      <th>121210</th>\n",
       "      <td>Dos viviendas en block en excelente ubicación ...</td>\n",
       "    </tr>\n",
       "    <tr>\n",
       "      <th>121211</th>\n",
       "      <td>Excelente departamento de categoría con vistas...</td>\n",
       "    </tr>\n",
       "    <tr>\n",
       "      <th>121212</th>\n",
       "      <td>ESPECTACULAR CASA ESTILO RACIONALISTA EN CALLE...</td>\n",
       "    </tr>\n",
       "    <tr>\n",
       "      <th>121213</th>\n",
       "      <td>EXCELENTE casa en Martinez. Inmejorable ubicai...</td>\n",
       "    </tr>\n",
       "  </tbody>\n",
       "</table>\n",
       "<p>19719 rows × 1 columns</p>\n",
       "</div>"
      ],
      "text/plain": [
       "                                              description\n",
       "5       Casa en el perímetro del barrio 338, ubicada e...\n",
       "20      Consta de: Comedor-cocina, cuatro dormitorios ...\n",
       "62      Casa moderna en dos plantas.PB : Living con ho...\n",
       "67      PLANTA ALTA: DORMITORIO EN SUITE - BALCÓNPLANT...\n",
       "76      Impecable casa moderna ubicada en la loma de S...\n",
       "...                                                   ...\n",
       "121208  Puertos- Barrio Vistas - L. 88Casa en venta so...\n",
       "121210  Dos viviendas en block en excelente ubicación ...\n",
       "121211  Excelente departamento de categoría con vistas...\n",
       "121212  ESPECTACULAR CASA ESTILO RACIONALISTA EN CALLE...\n",
       "121213  EXCELENTE casa en Martinez. Inmejorable ubicai...\n",
       "\n",
       "[19719 rows x 1 columns]"
      ]
     },
     "execution_count": 51,
     "metadata": {},
     "output_type": "execute_result"
    }
   ],
   "source": [
    "# Drope esos valores de la variable que cree\n",
    "data_usd_description.drop(data_usd_description[describe_alquiler.notnull()].index, inplace=True)\n",
    "\n",
    "data_usd_description"
   ]
  },
  {
   "cell_type": "code",
   "execution_count": 52,
   "metadata": {},
   "outputs": [],
   "source": [
    "# Creo pattern para dolares y pesos separados ya que los pesos tengo que convertirlos us\\$\n",
    "usd_pattern = re.compile(r\"(\\d*\\.*\\d*\\.*\\d+\\s*u\\$s|u\\$s\\s*\\d+\\.*\\d*\\.*\\d*|\\d*\\.*\\d*\\.*\\d+\\s*usd|usd\\s*\\d+\\.*\\d*\\.*\\d*|\\d*\\.*\\d*\\.*\\d+\\s*us\\$?|us\\$?\\s*\\d+\\.*\\d*\\.*\\d*)\", flags=re.IGNORECASE)\n",
    "\n",
    "#Extraigo los valores con usd, u$d o us \n",
    "describe_usd = extract_description(usd_pattern,data_usd_description)"
   ]
  },
  {
   "cell_type": "code",
   "execution_count": 53,
   "metadata": {},
   "outputs": [
    {
     "data": {
      "text/plain": [
       "USD 1          217\n",
       "U$S 1          181\n",
       "u$s20.000.      66\n",
       "U$S 40.0002     32\n",
       "USD45.000       32\n",
       "              ... \n",
       "U$S 335.000      1\n",
       "U$S 343.000      1\n",
       "U$S 445.000      1\n",
       "U$S 67.000.      1\n",
       "USD 30.000       1\n",
       "Name: description, Length: 321, dtype: int64"
      ]
     },
     "execution_count": 53,
     "metadata": {},
     "output_type": "execute_result"
    }
   ],
   "source": [
    "describe_usd.value_counts()"
   ]
  },
  {
   "cell_type": "code",
   "execution_count": 54,
   "metadata": {},
   "outputs": [
    {
     "name": "stderr",
     "output_type": "stream",
     "text": [
      "C:\\Users\\jpans\\AppData\\Local\\Temp\\ipykernel_9832\\1123727651.py:2: FutureWarning: The default value of regex will change from True to False in a future version.\n",
      "  describe_usd = describe_usd.str.replace(r\"(\\D)\",\"\", flags=re.IGNORECASE).astype(float)\n"
     ]
    }
   ],
   "source": [
    "#Reemplazo las palabras por espacio y lo convierto en float \n",
    "describe_usd = describe_usd.str.replace(r\"(\\D)\",\"\", flags=re.IGNORECASE).astype(float)"
   ]
  },
  {
   "cell_type": "code",
   "execution_count": 55,
   "metadata": {},
   "outputs": [
    {
     "data": {
      "text/plain": [
       "1.0         400\n",
       "20000.0      82\n",
       "45000.0      40\n",
       "400002.0     32\n",
       "120006.0     26\n",
       "           ... \n",
       "85.0          1\n",
       "68000.0       1\n",
       "142000.0      1\n",
       "65.0          1\n",
       "34000.0       1\n",
       "Name: description, Length: 231, dtype: int64"
      ]
     },
     "execution_count": 55,
     "metadata": {},
     "output_type": "execute_result"
    }
   ],
   "source": [
    "# Observo como tengo los valores ya separados de sus letras. Tambien veo que hay valores muy bajos. Estos los eliminares mas adelante\n",
    "describe_usd.value_counts()"
   ]
  },
  {
   "cell_type": "code",
   "execution_count": 56,
   "metadata": {},
   "outputs": [],
   "source": [
    "# Dropeo los valores ya seleccionados para evitar que se solapen con los de pesos\n",
    "data_usd_description_pesos = data_usd_description.drop(data_usd_description[describe_usd.notnull()].index)"
   ]
  },
  {
   "cell_type": "code",
   "execution_count": 57,
   "metadata": {},
   "outputs": [],
   "source": [
    "# Ahora lo realizo con los pesos\n",
    "# Creo pattern pesos\n",
    "peso_pattern = re.compile(r\"(\\d*\\.*\\d*\\.*\\d+\\s*\\$|\\$\\s*\\d+\\.*\\d*\\.*\\d*)\", flags=re.IGNORECASE)\n",
    "\n",
    "describe_pesos = extract_description(peso_pattern,data_usd_description_pesos)"
   ]
  },
  {
   "cell_type": "code",
   "execution_count": 58,
   "metadata": {},
   "outputs": [
    {
     "name": "stderr",
     "output_type": "stream",
     "text": [
      "C:\\Users\\jpans\\AppData\\Local\\Temp\\ipykernel_9832\\992892997.py:2: FutureWarning: The default value of regex will change from True to False in a future version.\n",
      "  describe_pesos = describe_pesos.str.replace(r\"(\\D)\",\"\", flags=re.IGNORECASE).astype(float)\n"
     ]
    }
   ],
   "source": [
    "#Reemplazo las palabras por espacio y lo convierto en float \n",
    "describe_pesos = describe_pesos.str.replace(r\"(\\D)\",\"\", flags=re.IGNORECASE).astype(float)"
   ]
  },
  {
   "cell_type": "code",
   "execution_count": 59,
   "metadata": {},
   "outputs": [
    {
     "data": {
      "text/plain": [
       "1.0          39\n",
       "420000.0     34\n",
       "4500.0       20\n",
       "1000.0       16\n",
       "1500.0       13\n",
       "             ..\n",
       "740.0         1\n",
       "1100000.0     1\n",
       "5114.0        1\n",
       "8390.0        1\n",
       "3400.0        1\n",
       "Name: description, Length: 271, dtype: int64"
      ]
     },
     "execution_count": 59,
     "metadata": {},
     "output_type": "execute_result"
    }
   ],
   "source": [
    "# Observo los valores de pesos. Nuevamente veo valores extremos. \n",
    "describe_pesos.value_counts()"
   ]
  },
  {
   "cell_type": "code",
   "execution_count": 68,
   "metadata": {},
   "outputs": [
    {
     "data": {
      "text/plain": [
       "0.056689        39\n",
       "23809.523810    34\n",
       "255.102041      20\n",
       "56.689342       16\n",
       "85.034014       13\n",
       "                ..\n",
       "41.950113        1\n",
       "62358.276644     1\n",
       "289.909297       1\n",
       "475.623583       1\n",
       "192.743764       1\n",
       "Name: description, Length: 271, dtype: int64"
      ]
     },
     "execution_count": 68,
     "metadata": {},
     "output_type": "execute_result"
    }
   ],
   "source": [
    "# Multiplico los pesos al precio del dolar de esa epoca\n",
    "\n",
    "describe_pesos_convert_dolar = describe_pesos/17.64\n"
   ]
  },
  {
   "cell_type": "code",
   "execution_count": 61,
   "metadata": {},
   "outputs": [],
   "source": [
    "# Ahora uno las dos variables para tener una\n",
    "describe_pesos_and_dolar = describe_usd.fillna(describe_pesos_convert_dolar)"
   ]
  },
  {
   "cell_type": "code",
   "execution_count": 62,
   "metadata": {},
   "outputs": [
    {
     "data": {
      "text/plain": [
       "Index(['operation', 'property_type', 'place_name', 'place_with_parent_names',\n",
       "       'country_name', 'state_name', 'geonames_id', 'lat-lon', 'lat', 'lon',\n",
       "       'price', 'currency', 'price_aprox_local_currency', 'price_aprox_usd',\n",
       "       'surface_total_in_m2', 'surface_covered_in_m2', 'price_usd_per_m2',\n",
       "       'price_per_m2', 'floor', 'rooms', 'expenses', 'properati_url',\n",
       "       'description', 'title', 'image_thumbnail', 'region_name', 'usd/m2'],\n",
       "      dtype='object')"
      ]
     },
     "execution_count": 62,
     "metadata": {},
     "output_type": "execute_result"
    }
   ],
   "source": [
    "#Elimino los valores extremos\n",
    "data.columns"
   ]
  },
  {
   "cell_type": "code",
   "execution_count": 63,
   "metadata": {},
   "outputs": [],
   "source": [
    "data[\"price_aprox_usd\"].fillna(describe_pesos_and_dolar, inplace=True)\n",
    "data[\"usd/m2\"] = data.price_aprox_usd /data.surface_total_in_m2"
   ]
  },
  {
   "cell_type": "code",
   "execution_count": 64,
   "metadata": {},
   "outputs": [
    {
     "data": {
      "text/plain": [
       "operation                      0.000000\n",
       "property_type                  0.000000\n",
       "place_name                     0.000000\n",
       "place_with_parent_names        0.000000\n",
       "country_name                   0.000000\n",
       "state_name                     0.000000\n",
       "geonames_id                   15.440521\n",
       "lat-lon                       42.525986\n",
       "lat                           42.525986\n",
       "lon                           42.525986\n",
       "price                         16.837156\n",
       "currency                      16.837981\n",
       "price_aprox_local_currency    16.837156\n",
       "price_aprox_usd               15.379475\n",
       "surface_total_in_m2            8.511797\n",
       "surface_covered_in_m2         16.422208\n",
       "price_usd_per_m2              43.394654\n",
       "price_per_m2                  27.686850\n",
       "floor                         93.483749\n",
       "rooms                         60.905791\n",
       "expenses                      88.234615\n",
       "properati_url                  0.000000\n",
       "description                    0.001650\n",
       "title                          0.000000\n",
       "image_thumbnail                2.567233\n",
       "region_name                    0.000000\n",
       "usd/m2                        21.276192\n",
       "dtype: float64"
      ]
     },
     "execution_count": 64,
     "metadata": {},
     "output_type": "execute_result"
    }
   ],
   "source": [
    "data.isna().sum()/data.shape[0]*100"
   ]
  },
  {
   "cell_type": "markdown",
   "metadata": {},
   "source": [
    "Queda pendiente eliminar los outliers ya que son varios y graficar correctamente "
   ]
  },
  {
   "cell_type": "markdown",
   "metadata": {},
   "source": [
    "# extra"
   ]
  },
  {
   "cell_type": "code",
   "execution_count": 65,
   "metadata": {},
   "outputs": [
    {
     "data": {
      "text/plain": [
       "array([17.64,   nan])"
      ]
     },
     "execution_count": 65,
     "metadata": {},
     "output_type": "execute_result"
    }
   ],
   "source": [
    "# Valor del Dolar \n",
    "#Dividimos el precio en pesos por dolar para obtener valor y lo reodndeamos a 2 \n",
    "usd = round(data.price_aprox_local_currency.div(data.price_aprox_usd),2)\n",
    "\n",
    "# Observamos que el valor unico es 17.64\n",
    "usd.unique()"
   ]
  }
 ],
 "metadata": {
  "kernelspec": {
   "display_name": "Python 3.9.13 ('base')",
   "language": "python",
   "name": "python3"
  },
  "language_info": {
   "codemirror_mode": {
    "name": "ipython",
    "version": 3
   },
   "file_extension": ".py",
   "mimetype": "text/x-python",
   "name": "python",
   "nbconvert_exporter": "python",
   "pygments_lexer": "ipython3",
   "version": "3.9.13"
  },
  "orig_nbformat": 4,
  "vscode": {
   "interpreter": {
    "hash": "0fea7c763fa03a4586faad3f4ad293e670c7522e19564e229c56da0cdf1eea0a"
   }
  }
 },
 "nbformat": 4,
 "nbformat_minor": 2
}
